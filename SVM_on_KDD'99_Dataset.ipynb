{
  "nbformat": 4,
  "nbformat_minor": 0,
  "metadata": {
    "colab": {
      "provenance": [],
      "authorship_tag": "ABX9TyPvsy1vDQlRxBHGJrT6IKBn",
      "include_colab_link": true
    },
    "kernelspec": {
      "name": "python3",
      "display_name": "Python 3"
    },
    "language_info": {
      "name": "python"
    }
  },
  "cells": [
    {
      "cell_type": "markdown",
      "metadata": {
        "id": "view-in-github",
        "colab_type": "text"
      },
      "source": [
        "<a href=\"https://colab.research.google.com/github/mizscrystal/SVM/blob/main/SVM_on_KDD'99_Dataset.ipynb\" target=\"_parent\"><img src=\"https://colab.research.google.com/assets/colab-badge.svg\" alt=\"Open In Colab\"/></a>"
      ]
    },
    {
      "cell_type": "code",
      "execution_count": null,
      "metadata": {
        "id": "65C4sNhEKr7m"
      },
      "outputs": [],
      "source": [
        "import warnings\n",
        "warnings.filterwarnings(\"ignore\")\n",
        "import shutil\n",
        "import os\n",
        "import pandas as pd\n",
        "import matplotlib\n",
        "import matplotlib.pyplot as plt\n",
        "import seaborn as sns\n",
        "import numpy as np\n",
        "import pickle\n",
        "from sklearn.manifold import TSNE\n",
        "from sklearn import preprocessing\n",
        "import pandas as pd\n",
        "from multiprocessing import Process# this is used for multithreading\n",
        "import multiprocessing \n",
        "import random as r\n",
        "from xgboost import XGBClassifier\n",
        "from sklearn.model_selection import RandomizedSearchCV\n",
        "from sklearn.tree import DecisionTreeClassifier\n",
        "from sklearn.calibration import CalibratedClassifierCV\n",
        "from sklearn.neighbors import KNeighborsClassifier\n",
        "from sklearn.metrics import log_loss\n",
        "from sklearn.metrics import confusion_matrix\n",
        "from sklearn.model_selection import train_test_split\n",
        "from sklearn.linear_model import LogisticRegression\n",
        "from sklearn.ensemble import RandomForestClassifier\n",
        "from sklearn.cluster import MiniBatchKMeans"
      ]
    },
    {
      "cell_type": "code",
      "source": [
        "features = ['duration','protocol_type','service','flag','src_bytes','dst_bytes','land','wrong_fragment','urgent','hot','num_failed_logins','logged_in','num_compromised','root_shell','su_attempted',\n",
        "'num_root','num_file_creations','num_shells','num_access_files','num_outbound_cmds',\n",
        "'is_host_login',\n",
        "'is_guest_login',\n",
        "'count',\n",
        "'srv_count',\n",
        "'serror_rate',\n",
        "'srv_serror_rate',\n",
        "'rerror_rate',\n",
        "'srv_rerror_rate',\n",
        "'same_srv_rate',\n",
        "'diff_srv_rate',\n",
        "'srv_diff_host_rate',\n",
        "'dst_host_count',\n",
        "'dst_host_srv_count',\n",
        "'dst_host_same_srv_rate',\n",
        "'dst_host_diff_srv_rate',\n",
        "'dst_host_same_src_port_rate',\n",
        "'dst_host_srv_diff_host_rate',\n",
        "'dst_host_serror_rate',\n",
        "'dst_host_srv_serror_rate',\n",
        "'dst_host_rerror_rate',\n",
        "'dst_host_srv_rerror_rate',\n",
        "'intrusion_type']"
      ],
      "metadata": {
        "id": "nvYAhqYNaupE"
      },
      "execution_count": null,
      "outputs": []
    },
    {
      "cell_type": "code",
      "source": [
        "from google.colab import files\n",
        "dataset = files.upload()"
      ],
      "metadata": {
        "colab": {
          "resources": {
            "http://localhost:8080/nbextensions/google.colab/files.js": {
              "data": "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",
              "ok": true,
              "headers": [
                [
                  "content-type",
                  "application/javascript"
                ]
              ],
              "status": 200,
              "status_text": ""
            }
          },
          "base_uri": "https://localhost:8080/",
          "height": 74
        },
        "id": "6sEYjDSjayzL",
        "outputId": "ff860aaa-c211-4d5a-bcec-512f4d9672a0"
      },
      "execution_count": null,
      "outputs": [
        {
          "output_type": "display_data",
          "data": {
            "text/plain": [
              "<IPython.core.display.HTML object>"
            ],
            "text/html": [
              "\n",
              "     <input type=\"file\" id=\"files-0a965870-d558-4bb8-ae97-4fc91fe4358b\" name=\"files[]\" multiple disabled\n",
              "        style=\"border:none\" />\n",
              "     <output id=\"result-0a965870-d558-4bb8-ae97-4fc91fe4358b\">\n",
              "      Upload widget is only available when the cell has been executed in the\n",
              "      current browser session. Please rerun this cell to enable.\n",
              "      </output>\n",
              "      <script src=\"/nbextensions/google.colab/files.js\"></script> "
            ]
          },
          "metadata": {}
        },
        {
          "output_type": "stream",
          "name": "stdout",
          "text": [
            "Saving kddcup.data_10_percent_corrected.gz to kddcup.data_10_percent_corrected.gz\n"
          ]
        }
      ]
    },
    {
      "cell_type": "code",
      "source": [
        "data = pd.read_csv('kddcup.data_10_percent_corrected.gz', names=features, header=None)\n",
        "data.head()"
      ],
      "metadata": {
        "colab": {
          "base_uri": "https://localhost:8080/",
          "height": 299
        },
        "id": "WF3N-lz3a2eU",
        "outputId": "2f2ec729-b3e3-43b5-cd70-6e80594ddca2"
      },
      "execution_count": null,
      "outputs": [
        {
          "output_type": "execute_result",
          "data": {
            "text/plain": [
              "   duration protocol_type  service flag  src_bytes  dst_bytes  land  \\\n",
              "0         0           udp  private   SF        105        146     0   \n",
              "1         0           udp  private   SF        105        146     0   \n",
              "2         0           udp  private   SF        105        146     0   \n",
              "3         0           udp  private   SF        105        146     0   \n",
              "4         0           udp  private   SF        105        146     0   \n",
              "\n",
              "   wrong_fragment  urgent  hot  ...  dst_host_srv_count  \\\n",
              "0               0       0    0  ...                 254   \n",
              "1               0       0    0  ...                 254   \n",
              "2               0       0    0  ...                 254   \n",
              "3               0       0    0  ...                 254   \n",
              "4               0       0    0  ...                 254   \n",
              "\n",
              "   dst_host_same_srv_rate  dst_host_diff_srv_rate  \\\n",
              "0                     1.0                    0.01   \n",
              "1                     1.0                    0.01   \n",
              "2                     1.0                    0.01   \n",
              "3                     1.0                    0.01   \n",
              "4                     1.0                    0.01   \n",
              "\n",
              "   dst_host_same_src_port_rate  dst_host_srv_diff_host_rate  \\\n",
              "0                         0.00                          0.0   \n",
              "1                         0.00                          0.0   \n",
              "2                         0.00                          0.0   \n",
              "3                         0.00                          0.0   \n",
              "4                         0.01                          0.0   \n",
              "\n",
              "   dst_host_serror_rate  dst_host_srv_serror_rate  dst_host_rerror_rate  \\\n",
              "0                   0.0                       0.0                   0.0   \n",
              "1                   0.0                       0.0                   0.0   \n",
              "2                   0.0                       0.0                   0.0   \n",
              "3                   0.0                       0.0                   0.0   \n",
              "4                   0.0                       0.0                   0.0   \n",
              "\n",
              "   dst_host_srv_rerror_rate  intrusion_type  \n",
              "0                       0.0         normal.  \n",
              "1                       0.0         normal.  \n",
              "2                       0.0         normal.  \n",
              "3                       0.0  snmpgetattack.  \n",
              "4                       0.0  snmpgetattack.  \n",
              "\n",
              "[5 rows x 42 columns]"
            ],
            "text/html": [
              "\n",
              "  <div id=\"df-dbbe3f9e-0e69-43c3-be30-45a370c7a70c\">\n",
              "    <div class=\"colab-df-container\">\n",
              "      <div>\n",
              "<style scoped>\n",
              "    .dataframe tbody tr th:only-of-type {\n",
              "        vertical-align: middle;\n",
              "    }\n",
              "\n",
              "    .dataframe tbody tr th {\n",
              "        vertical-align: top;\n",
              "    }\n",
              "\n",
              "    .dataframe thead th {\n",
              "        text-align: right;\n",
              "    }\n",
              "</style>\n",
              "<table border=\"1\" class=\"dataframe\">\n",
              "  <thead>\n",
              "    <tr style=\"text-align: right;\">\n",
              "      <th></th>\n",
              "      <th>duration</th>\n",
              "      <th>protocol_type</th>\n",
              "      <th>service</th>\n",
              "      <th>flag</th>\n",
              "      <th>src_bytes</th>\n",
              "      <th>dst_bytes</th>\n",
              "      <th>land</th>\n",
              "      <th>wrong_fragment</th>\n",
              "      <th>urgent</th>\n",
              "      <th>hot</th>\n",
              "      <th>...</th>\n",
              "      <th>dst_host_srv_count</th>\n",
              "      <th>dst_host_same_srv_rate</th>\n",
              "      <th>dst_host_diff_srv_rate</th>\n",
              "      <th>dst_host_same_src_port_rate</th>\n",
              "      <th>dst_host_srv_diff_host_rate</th>\n",
              "      <th>dst_host_serror_rate</th>\n",
              "      <th>dst_host_srv_serror_rate</th>\n",
              "      <th>dst_host_rerror_rate</th>\n",
              "      <th>dst_host_srv_rerror_rate</th>\n",
              "      <th>intrusion_type</th>\n",
              "    </tr>\n",
              "  </thead>\n",
              "  <tbody>\n",
              "    <tr>\n",
              "      <th>0</th>\n",
              "      <td>0</td>\n",
              "      <td>udp</td>\n",
              "      <td>private</td>\n",
              "      <td>SF</td>\n",
              "      <td>105</td>\n",
              "      <td>146</td>\n",
              "      <td>0</td>\n",
              "      <td>0</td>\n",
              "      <td>0</td>\n",
              "      <td>0</td>\n",
              "      <td>...</td>\n",
              "      <td>254</td>\n",
              "      <td>1.0</td>\n",
              "      <td>0.01</td>\n",
              "      <td>0.00</td>\n",
              "      <td>0.0</td>\n",
              "      <td>0.0</td>\n",
              "      <td>0.0</td>\n",
              "      <td>0.0</td>\n",
              "      <td>0.0</td>\n",
              "      <td>normal.</td>\n",
              "    </tr>\n",
              "    <tr>\n",
              "      <th>1</th>\n",
              "      <td>0</td>\n",
              "      <td>udp</td>\n",
              "      <td>private</td>\n",
              "      <td>SF</td>\n",
              "      <td>105</td>\n",
              "      <td>146</td>\n",
              "      <td>0</td>\n",
              "      <td>0</td>\n",
              "      <td>0</td>\n",
              "      <td>0</td>\n",
              "      <td>...</td>\n",
              "      <td>254</td>\n",
              "      <td>1.0</td>\n",
              "      <td>0.01</td>\n",
              "      <td>0.00</td>\n",
              "      <td>0.0</td>\n",
              "      <td>0.0</td>\n",
              "      <td>0.0</td>\n",
              "      <td>0.0</td>\n",
              "      <td>0.0</td>\n",
              "      <td>normal.</td>\n",
              "    </tr>\n",
              "    <tr>\n",
              "      <th>2</th>\n",
              "      <td>0</td>\n",
              "      <td>udp</td>\n",
              "      <td>private</td>\n",
              "      <td>SF</td>\n",
              "      <td>105</td>\n",
              "      <td>146</td>\n",
              "      <td>0</td>\n",
              "      <td>0</td>\n",
              "      <td>0</td>\n",
              "      <td>0</td>\n",
              "      <td>...</td>\n",
              "      <td>254</td>\n",
              "      <td>1.0</td>\n",
              "      <td>0.01</td>\n",
              "      <td>0.00</td>\n",
              "      <td>0.0</td>\n",
              "      <td>0.0</td>\n",
              "      <td>0.0</td>\n",
              "      <td>0.0</td>\n",
              "      <td>0.0</td>\n",
              "      <td>normal.</td>\n",
              "    </tr>\n",
              "    <tr>\n",
              "      <th>3</th>\n",
              "      <td>0</td>\n",
              "      <td>udp</td>\n",
              "      <td>private</td>\n",
              "      <td>SF</td>\n",
              "      <td>105</td>\n",
              "      <td>146</td>\n",
              "      <td>0</td>\n",
              "      <td>0</td>\n",
              "      <td>0</td>\n",
              "      <td>0</td>\n",
              "      <td>...</td>\n",
              "      <td>254</td>\n",
              "      <td>1.0</td>\n",
              "      <td>0.01</td>\n",
              "      <td>0.00</td>\n",
              "      <td>0.0</td>\n",
              "      <td>0.0</td>\n",
              "      <td>0.0</td>\n",
              "      <td>0.0</td>\n",
              "      <td>0.0</td>\n",
              "      <td>snmpgetattack.</td>\n",
              "    </tr>\n",
              "    <tr>\n",
              "      <th>4</th>\n",
              "      <td>0</td>\n",
              "      <td>udp</td>\n",
              "      <td>private</td>\n",
              "      <td>SF</td>\n",
              "      <td>105</td>\n",
              "      <td>146</td>\n",
              "      <td>0</td>\n",
              "      <td>0</td>\n",
              "      <td>0</td>\n",
              "      <td>0</td>\n",
              "      <td>...</td>\n",
              "      <td>254</td>\n",
              "      <td>1.0</td>\n",
              "      <td>0.01</td>\n",
              "      <td>0.01</td>\n",
              "      <td>0.0</td>\n",
              "      <td>0.0</td>\n",
              "      <td>0.0</td>\n",
              "      <td>0.0</td>\n",
              "      <td>0.0</td>\n",
              "      <td>snmpgetattack.</td>\n",
              "    </tr>\n",
              "  </tbody>\n",
              "</table>\n",
              "<p>5 rows × 42 columns</p>\n",
              "</div>\n",
              "      <button class=\"colab-df-convert\" onclick=\"convertToInteractive('df-dbbe3f9e-0e69-43c3-be30-45a370c7a70c')\"\n",
              "              title=\"Convert this dataframe to an interactive table.\"\n",
              "              style=\"display:none;\">\n",
              "        \n",
              "  <svg xmlns=\"http://www.w3.org/2000/svg\" height=\"24px\"viewBox=\"0 0 24 24\"\n",
              "       width=\"24px\">\n",
              "    <path d=\"M0 0h24v24H0V0z\" fill=\"none\"/>\n",
              "    <path d=\"M18.56 5.44l.94 2.06.94-2.06 2.06-.94-2.06-.94-.94-2.06-.94 2.06-2.06.94zm-11 1L8.5 8.5l.94-2.06 2.06-.94-2.06-.94L8.5 2.5l-.94 2.06-2.06.94zm10 10l.94 2.06.94-2.06 2.06-.94-2.06-.94-.94-2.06-.94 2.06-2.06.94z\"/><path d=\"M17.41 7.96l-1.37-1.37c-.4-.4-.92-.59-1.43-.59-.52 0-1.04.2-1.43.59L10.3 9.45l-7.72 7.72c-.78.78-.78 2.05 0 2.83L4 21.41c.39.39.9.59 1.41.59.51 0 1.02-.2 1.41-.59l7.78-7.78 2.81-2.81c.8-.78.8-2.07 0-2.86zM5.41 20L4 18.59l7.72-7.72 1.47 1.35L5.41 20z\"/>\n",
              "  </svg>\n",
              "      </button>\n",
              "      \n",
              "  <style>\n",
              "    .colab-df-container {\n",
              "      display:flex;\n",
              "      flex-wrap:wrap;\n",
              "      gap: 12px;\n",
              "    }\n",
              "\n",
              "    .colab-df-convert {\n",
              "      background-color: #E8F0FE;\n",
              "      border: none;\n",
              "      border-radius: 50%;\n",
              "      cursor: pointer;\n",
              "      display: none;\n",
              "      fill: #1967D2;\n",
              "      height: 32px;\n",
              "      padding: 0 0 0 0;\n",
              "      width: 32px;\n",
              "    }\n",
              "\n",
              "    .colab-df-convert:hover {\n",
              "      background-color: #E2EBFA;\n",
              "      box-shadow: 0px 1px 2px rgba(60, 64, 67, 0.3), 0px 1px 3px 1px rgba(60, 64, 67, 0.15);\n",
              "      fill: #174EA6;\n",
              "    }\n",
              "\n",
              "    [theme=dark] .colab-df-convert {\n",
              "      background-color: #3B4455;\n",
              "      fill: #D2E3FC;\n",
              "    }\n",
              "\n",
              "    [theme=dark] .colab-df-convert:hover {\n",
              "      background-color: #434B5C;\n",
              "      box-shadow: 0px 1px 3px 1px rgba(0, 0, 0, 0.15);\n",
              "      filter: drop-shadow(0px 1px 2px rgba(0, 0, 0, 0.3));\n",
              "      fill: #FFFFFF;\n",
              "    }\n",
              "  </style>\n",
              "\n",
              "      <script>\n",
              "        const buttonEl =\n",
              "          document.querySelector('#df-dbbe3f9e-0e69-43c3-be30-45a370c7a70c button.colab-df-convert');\n",
              "        buttonEl.style.display =\n",
              "          google.colab.kernel.accessAllowed ? 'block' : 'none';\n",
              "\n",
              "        async function convertToInteractive(key) {\n",
              "          const element = document.querySelector('#df-dbbe3f9e-0e69-43c3-be30-45a370c7a70c');\n",
              "          const dataTable =\n",
              "            await google.colab.kernel.invokeFunction('convertToInteractive',\n",
              "                                                     [key], {});\n",
              "          if (!dataTable) return;\n",
              "\n",
              "          const docLinkHtml = 'Like what you see? Visit the ' +\n",
              "            '<a target=\"_blank\" href=https://colab.research.google.com/notebooks/data_table.ipynb>data table notebook</a>'\n",
              "            + ' to learn more about interactive tables.';\n",
              "          element.innerHTML = '';\n",
              "          dataTable['output_type'] = 'display_data';\n",
              "          await google.colab.output.renderOutput(dataTable, element);\n",
              "          const docLink = document.createElement('div');\n",
              "          docLink.innerHTML = docLinkHtml;\n",
              "          element.appendChild(docLink);\n",
              "        }\n",
              "      </script>\n",
              "    </div>\n",
              "  </div>\n",
              "  "
            ]
          },
          "metadata": {},
          "execution_count": 4
        }
      ]
    },
    {
      "cell_type": "code",
      "source": [
        "print('The no of data points are:',data.shape[0])\n",
        "print('='*40)\n",
        "print('The no of features are:',data.shape[1])\n",
        "print('='*40)\n",
        "print('Some of the features are:',features[:10])"
      ],
      "metadata": {
        "colab": {
          "base_uri": "https://localhost:8080/"
        },
        "id": "PUAFO6u_a517",
        "outputId": "46795500-3f66-4749-ecde-14766ef19576"
      },
      "execution_count": null,
      "outputs": [
        {
          "output_type": "stream",
          "name": "stdout",
          "text": [
            "The no of data points are: 311029\n",
            "========================================\n",
            "The no of features are: 42\n",
            "========================================\n",
            "Some of the features are: ['duration', 'protocol_type', 'service', 'flag', 'src_bytes', 'dst_bytes', 'land', 'wrong_fragment', 'urgent', 'hot']\n"
          ]
        }
      ]
    },
    {
      "cell_type": "code",
      "source": [
        "output = data['intrusion_type'].values\n",
        "labels = set(output)"
      ],
      "metadata": {
        "id": "W_FNFNFFbBs-"
      },
      "execution_count": null,
      "outputs": []
    },
    {
      "cell_type": "code",
      "source": [
        "print('The different type of output labels are:',labels)\n",
        "print('='*100)\n",
        "print('No. of different output labels are:', len(labels))"
      ],
      "metadata": {
        "colab": {
          "base_uri": "https://localhost:8080/"
        },
        "id": "iltxCllNbF_r",
        "outputId": "a85ff616-e282-4cbf-ac40-03ebc2f58095"
      },
      "execution_count": null,
      "outputs": [
        {
          "output_type": "stream",
          "name": "stdout",
          "text": [
            "The different type of output labels are: {'udpstorm.', 'perl.', 'pod.', 'warezmaster.', 'nmap.', 'snmpguess.', 'xsnoop.', 'teardrop.', 'portsweep.', 'imap.', 'guess_passwd.', 'buffer_overflow.', 'xlock.', 'sendmail.', 'mailbomb.', 'processtable.', 'normal.', 'multihop.', 'phf.', 'satan.', 'loadmodule.', 'worm.', 'sqlattack.', 'snmpgetattack.', 'ipsweep.', 'httptunnel.', 'neptune.', 'mscan.', 'saint.', 'named.', 'xterm.', 'rootkit.', 'ps.', 'smurf.', 'back.', 'apache2.', 'ftp_write.', 'land.'}\n",
            "====================================================================================================\n",
            "No. of different output labels are: 38\n"
          ]
        }
      ]
    },
    {
      "cell_type": "markdown",
      "source": [
        "Data Cleaning:-\n",
        "\n",
        "Checking for NULL values:-"
      ],
      "metadata": {
        "id": "HaRGY1LebNyG"
      }
    },
    {
      "cell_type": "code",
      "source": [
        "print('Null values in the dataset are: ',len(data[data.isnull().any(1)]))"
      ],
      "metadata": {
        "colab": {
          "base_uri": "https://localhost:8080/"
        },
        "id": "zG6IkxdObKW2",
        "outputId": "422edb65-2af8-4394-bc17-2e0de9c7f26a"
      },
      "execution_count": null,
      "outputs": [
        {
          "output_type": "stream",
          "name": "stdout",
          "text": [
            "Null values in the dataset are:  0\n"
          ]
        }
      ]
    },
    {
      "cell_type": "markdown",
      "source": [
        "Checking for DUPLICATE values:-"
      ],
      "metadata": {
        "id": "7BljzBx-bVWj"
      }
    },
    {
      "cell_type": "code",
      "source": [
        "duplicateRowsDF = data[data.duplicated()]\n",
        "duplicateRowsDF.head(5)"
      ],
      "metadata": {
        "colab": {
          "base_uri": "https://localhost:8080/",
          "height": 299
        },
        "id": "RDETQPPzbSbE",
        "outputId": "969525e0-60ba-4cf1-f1c5-0048c2b134d8"
      },
      "execution_count": null,
      "outputs": [
        {
          "output_type": "execute_result",
          "data": {
            "text/plain": [
              "    duration protocol_type  service flag  src_bytes  dst_bytes  land  \\\n",
              "1          0           udp  private   SF        105        146     0   \n",
              "2          0           udp  private   SF        105        146     0   \n",
              "8          0           udp  private   SF        105        146     0   \n",
              "10         0           udp  private   SF        105        146     0   \n",
              "18         0           udp  private   SF        105        146     0   \n",
              "\n",
              "    wrong_fragment  urgent  hot  ...  dst_host_srv_count  \\\n",
              "1                0       0    0  ...                 254   \n",
              "2                0       0    0  ...                 254   \n",
              "8                0       0    0  ...                 254   \n",
              "10               0       0    0  ...                 254   \n",
              "18               0       0    0  ...                 254   \n",
              "\n",
              "    dst_host_same_srv_rate  dst_host_diff_srv_rate  \\\n",
              "1                      1.0                    0.01   \n",
              "2                      1.0                    0.01   \n",
              "8                      1.0                    0.01   \n",
              "10                     1.0                    0.01   \n",
              "18                     1.0                    0.01   \n",
              "\n",
              "    dst_host_same_src_port_rate  dst_host_srv_diff_host_rate  \\\n",
              "1                          0.00                          0.0   \n",
              "2                          0.00                          0.0   \n",
              "8                          0.00                          0.0   \n",
              "10                         0.00                          0.0   \n",
              "18                         0.01                          0.0   \n",
              "\n",
              "    dst_host_serror_rate  dst_host_srv_serror_rate  dst_host_rerror_rate  \\\n",
              "1                    0.0                       0.0                   0.0   \n",
              "2                    0.0                       0.0                   0.0   \n",
              "8                    0.0                       0.0                   0.0   \n",
              "10                   0.0                       0.0                   0.0   \n",
              "18                   0.0                       0.0                   0.0   \n",
              "\n",
              "    dst_host_srv_rerror_rate  intrusion_type  \n",
              "1                        0.0         normal.  \n",
              "2                        0.0         normal.  \n",
              "8                        0.0  snmpgetattack.  \n",
              "10                       0.0  snmpgetattack.  \n",
              "18                       0.0  snmpgetattack.  \n",
              "\n",
              "[5 rows x 42 columns]"
            ],
            "text/html": [
              "\n",
              "  <div id=\"df-9a2abddc-919b-44e6-94df-5871f076ade1\">\n",
              "    <div class=\"colab-df-container\">\n",
              "      <div>\n",
              "<style scoped>\n",
              "    .dataframe tbody tr th:only-of-type {\n",
              "        vertical-align: middle;\n",
              "    }\n",
              "\n",
              "    .dataframe tbody tr th {\n",
              "        vertical-align: top;\n",
              "    }\n",
              "\n",
              "    .dataframe thead th {\n",
              "        text-align: right;\n",
              "    }\n",
              "</style>\n",
              "<table border=\"1\" class=\"dataframe\">\n",
              "  <thead>\n",
              "    <tr style=\"text-align: right;\">\n",
              "      <th></th>\n",
              "      <th>duration</th>\n",
              "      <th>protocol_type</th>\n",
              "      <th>service</th>\n",
              "      <th>flag</th>\n",
              "      <th>src_bytes</th>\n",
              "      <th>dst_bytes</th>\n",
              "      <th>land</th>\n",
              "      <th>wrong_fragment</th>\n",
              "      <th>urgent</th>\n",
              "      <th>hot</th>\n",
              "      <th>...</th>\n",
              "      <th>dst_host_srv_count</th>\n",
              "      <th>dst_host_same_srv_rate</th>\n",
              "      <th>dst_host_diff_srv_rate</th>\n",
              "      <th>dst_host_same_src_port_rate</th>\n",
              "      <th>dst_host_srv_diff_host_rate</th>\n",
              "      <th>dst_host_serror_rate</th>\n",
              "      <th>dst_host_srv_serror_rate</th>\n",
              "      <th>dst_host_rerror_rate</th>\n",
              "      <th>dst_host_srv_rerror_rate</th>\n",
              "      <th>intrusion_type</th>\n",
              "    </tr>\n",
              "  </thead>\n",
              "  <tbody>\n",
              "    <tr>\n",
              "      <th>1</th>\n",
              "      <td>0</td>\n",
              "      <td>udp</td>\n",
              "      <td>private</td>\n",
              "      <td>SF</td>\n",
              "      <td>105</td>\n",
              "      <td>146</td>\n",
              "      <td>0</td>\n",
              "      <td>0</td>\n",
              "      <td>0</td>\n",
              "      <td>0</td>\n",
              "      <td>...</td>\n",
              "      <td>254</td>\n",
              "      <td>1.0</td>\n",
              "      <td>0.01</td>\n",
              "      <td>0.00</td>\n",
              "      <td>0.0</td>\n",
              "      <td>0.0</td>\n",
              "      <td>0.0</td>\n",
              "      <td>0.0</td>\n",
              "      <td>0.0</td>\n",
              "      <td>normal.</td>\n",
              "    </tr>\n",
              "    <tr>\n",
              "      <th>2</th>\n",
              "      <td>0</td>\n",
              "      <td>udp</td>\n",
              "      <td>private</td>\n",
              "      <td>SF</td>\n",
              "      <td>105</td>\n",
              "      <td>146</td>\n",
              "      <td>0</td>\n",
              "      <td>0</td>\n",
              "      <td>0</td>\n",
              "      <td>0</td>\n",
              "      <td>...</td>\n",
              "      <td>254</td>\n",
              "      <td>1.0</td>\n",
              "      <td>0.01</td>\n",
              "      <td>0.00</td>\n",
              "      <td>0.0</td>\n",
              "      <td>0.0</td>\n",
              "      <td>0.0</td>\n",
              "      <td>0.0</td>\n",
              "      <td>0.0</td>\n",
              "      <td>normal.</td>\n",
              "    </tr>\n",
              "    <tr>\n",
              "      <th>8</th>\n",
              "      <td>0</td>\n",
              "      <td>udp</td>\n",
              "      <td>private</td>\n",
              "      <td>SF</td>\n",
              "      <td>105</td>\n",
              "      <td>146</td>\n",
              "      <td>0</td>\n",
              "      <td>0</td>\n",
              "      <td>0</td>\n",
              "      <td>0</td>\n",
              "      <td>...</td>\n",
              "      <td>254</td>\n",
              "      <td>1.0</td>\n",
              "      <td>0.01</td>\n",
              "      <td>0.00</td>\n",
              "      <td>0.0</td>\n",
              "      <td>0.0</td>\n",
              "      <td>0.0</td>\n",
              "      <td>0.0</td>\n",
              "      <td>0.0</td>\n",
              "      <td>snmpgetattack.</td>\n",
              "    </tr>\n",
              "    <tr>\n",
              "      <th>10</th>\n",
              "      <td>0</td>\n",
              "      <td>udp</td>\n",
              "      <td>private</td>\n",
              "      <td>SF</td>\n",
              "      <td>105</td>\n",
              "      <td>146</td>\n",
              "      <td>0</td>\n",
              "      <td>0</td>\n",
              "      <td>0</td>\n",
              "      <td>0</td>\n",
              "      <td>...</td>\n",
              "      <td>254</td>\n",
              "      <td>1.0</td>\n",
              "      <td>0.01</td>\n",
              "      <td>0.00</td>\n",
              "      <td>0.0</td>\n",
              "      <td>0.0</td>\n",
              "      <td>0.0</td>\n",
              "      <td>0.0</td>\n",
              "      <td>0.0</td>\n",
              "      <td>snmpgetattack.</td>\n",
              "    </tr>\n",
              "    <tr>\n",
              "      <th>18</th>\n",
              "      <td>0</td>\n",
              "      <td>udp</td>\n",
              "      <td>private</td>\n",
              "      <td>SF</td>\n",
              "      <td>105</td>\n",
              "      <td>146</td>\n",
              "      <td>0</td>\n",
              "      <td>0</td>\n",
              "      <td>0</td>\n",
              "      <td>0</td>\n",
              "      <td>...</td>\n",
              "      <td>254</td>\n",
              "      <td>1.0</td>\n",
              "      <td>0.01</td>\n",
              "      <td>0.01</td>\n",
              "      <td>0.0</td>\n",
              "      <td>0.0</td>\n",
              "      <td>0.0</td>\n",
              "      <td>0.0</td>\n",
              "      <td>0.0</td>\n",
              "      <td>snmpgetattack.</td>\n",
              "    </tr>\n",
              "  </tbody>\n",
              "</table>\n",
              "<p>5 rows × 42 columns</p>\n",
              "</div>\n",
              "      <button class=\"colab-df-convert\" onclick=\"convertToInteractive('df-9a2abddc-919b-44e6-94df-5871f076ade1')\"\n",
              "              title=\"Convert this dataframe to an interactive table.\"\n",
              "              style=\"display:none;\">\n",
              "        \n",
              "  <svg xmlns=\"http://www.w3.org/2000/svg\" height=\"24px\"viewBox=\"0 0 24 24\"\n",
              "       width=\"24px\">\n",
              "    <path d=\"M0 0h24v24H0V0z\" fill=\"none\"/>\n",
              "    <path d=\"M18.56 5.44l.94 2.06.94-2.06 2.06-.94-2.06-.94-.94-2.06-.94 2.06-2.06.94zm-11 1L8.5 8.5l.94-2.06 2.06-.94-2.06-.94L8.5 2.5l-.94 2.06-2.06.94zm10 10l.94 2.06.94-2.06 2.06-.94-2.06-.94-.94-2.06-.94 2.06-2.06.94z\"/><path d=\"M17.41 7.96l-1.37-1.37c-.4-.4-.92-.59-1.43-.59-.52 0-1.04.2-1.43.59L10.3 9.45l-7.72 7.72c-.78.78-.78 2.05 0 2.83L4 21.41c.39.39.9.59 1.41.59.51 0 1.02-.2 1.41-.59l7.78-7.78 2.81-2.81c.8-.78.8-2.07 0-2.86zM5.41 20L4 18.59l7.72-7.72 1.47 1.35L5.41 20z\"/>\n",
              "  </svg>\n",
              "      </button>\n",
              "      \n",
              "  <style>\n",
              "    .colab-df-container {\n",
              "      display:flex;\n",
              "      flex-wrap:wrap;\n",
              "      gap: 12px;\n",
              "    }\n",
              "\n",
              "    .colab-df-convert {\n",
              "      background-color: #E8F0FE;\n",
              "      border: none;\n",
              "      border-radius: 50%;\n",
              "      cursor: pointer;\n",
              "      display: none;\n",
              "      fill: #1967D2;\n",
              "      height: 32px;\n",
              "      padding: 0 0 0 0;\n",
              "      width: 32px;\n",
              "    }\n",
              "\n",
              "    .colab-df-convert:hover {\n",
              "      background-color: #E2EBFA;\n",
              "      box-shadow: 0px 1px 2px rgba(60, 64, 67, 0.3), 0px 1px 3px 1px rgba(60, 64, 67, 0.15);\n",
              "      fill: #174EA6;\n",
              "    }\n",
              "\n",
              "    [theme=dark] .colab-df-convert {\n",
              "      background-color: #3B4455;\n",
              "      fill: #D2E3FC;\n",
              "    }\n",
              "\n",
              "    [theme=dark] .colab-df-convert:hover {\n",
              "      background-color: #434B5C;\n",
              "      box-shadow: 0px 1px 3px 1px rgba(0, 0, 0, 0.15);\n",
              "      filter: drop-shadow(0px 1px 2px rgba(0, 0, 0, 0.3));\n",
              "      fill: #FFFFFF;\n",
              "    }\n",
              "  </style>\n",
              "\n",
              "      <script>\n",
              "        const buttonEl =\n",
              "          document.querySelector('#df-9a2abddc-919b-44e6-94df-5871f076ade1 button.colab-df-convert');\n",
              "        buttonEl.style.display =\n",
              "          google.colab.kernel.accessAllowed ? 'block' : 'none';\n",
              "\n",
              "        async function convertToInteractive(key) {\n",
              "          const element = document.querySelector('#df-9a2abddc-919b-44e6-94df-5871f076ade1');\n",
              "          const dataTable =\n",
              "            await google.colab.kernel.invokeFunction('convertToInteractive',\n",
              "                                                     [key], {});\n",
              "          if (!dataTable) return;\n",
              "\n",
              "          const docLinkHtml = 'Like what you see? Visit the ' +\n",
              "            '<a target=\"_blank\" href=https://colab.research.google.com/notebooks/data_table.ipynb>data table notebook</a>'\n",
              "            + ' to learn more about interactive tables.';\n",
              "          element.innerHTML = '';\n",
              "          dataTable['output_type'] = 'display_data';\n",
              "          await google.colab.output.renderOutput(dataTable, element);\n",
              "          const docLink = document.createElement('div');\n",
              "          docLink.innerHTML = docLinkHtml;\n",
              "          element.appendChild(docLink);\n",
              "        }\n",
              "      </script>\n",
              "    </div>\n",
              "  </div>\n",
              "  "
            ]
          },
          "metadata": {},
          "execution_count": 9
        }
      ]
    },
    {
      "cell_type": "code",
      "source": [
        "data.drop_duplicates(subset=features, keep='first', inplace=True)\n",
        "data.shape"
      ],
      "metadata": {
        "colab": {
          "base_uri": "https://localhost:8080/"
        },
        "id": "r6ygsQqLbdFj",
        "outputId": "d0033b86-04ae-41c2-c938-49abdfcd5f3b"
      },
      "execution_count": null,
      "outputs": [
        {
          "output_type": "execute_result",
          "data": {
            "text/plain": [
              "(77291, 42)"
            ]
          },
          "metadata": {},
          "execution_count": 10
        }
      ]
    },
    {
      "cell_type": "code",
      "source": [
        "data.to_pickle('data.pkl')\n",
        "data = pd.read_pickle('data.pkl')"
      ],
      "metadata": {
        "id": "Naf9Y06Qbg1g"
      },
      "execution_count": null,
      "outputs": []
    },
    {
      "cell_type": "markdown",
      "source": [
        "Exploratory Data Analysis:- Distribution of categories in class label:-"
      ],
      "metadata": {
        "id": "3y1LiezJbo6M"
      }
    },
    {
      "cell_type": "code",
      "source": [
        "plt.figure(figsize=(20,15))\n",
        "class_distribution = data['intrusion_type'].value_counts()\n",
        "class_distribution.plot(kind='bar')\n",
        "plt.xlabel('Class')\n",
        "plt.ylabel('Data points per Class')\n",
        "plt.title('Distribution of yi in train data')\n",
        "plt.grid()\n",
        "plt.show()\n",
        "\n",
        "# ref: argsort https://docs.scipy.org/doc/numpy/reference/generated/numpy.argsort.html\n",
        "# -(train_class_distribution.values): the minus sign will give us in decreasing order\n",
        "sorted_yi = np.argsort(-class_distribution.values)\n",
        "for i in sorted_yi:\n",
        "    print('Number of data points in class', i+1, ':',class_distribution.values[i], '(', np.round((class_distribution.values[i]/data.shape[0]*100), 3), '%)')\n"
      ],
      "metadata": {
        "colab": {
          "base_uri": "https://localhost:8080/",
          "height": 1000
        },
        "id": "fOSwIaYpbqfe",
        "outputId": "7de784a6-e9c8-47cd-b245-670631dc9ebe"
      },
      "execution_count": null,
      "outputs": [
        {
          "output_type": "display_data",
          "data": {
            "text/plain": [
              "<Figure size 1440x1080 with 1 Axes>"
            ],
            "image/png": "[encoded data removed]"
          },
          "metadata": {
            "needs_background": "light"
          }
        },
        {
          "output_type": "stream",
          "name": "stdout",
          "text": [
            "Number of data points in class 1 : 47913 ( 61.99 %)\n",
            "Number of data points in class 2 : 20332 ( 26.306 %)\n",
            "Number of data points in class 3 : 1302 ( 1.685 %)\n",
            "Number of data points in class 4 : 1049 ( 1.357 %)\n",
            "Number of data points in class 5 : 1002 ( 1.296 %)\n",
            "Number of data points in class 6 : 936 ( 1.211 %)\n",
            "Number of data points in class 7 : 860 ( 1.113 %)\n",
            "Number of data points in class 8 : 794 ( 1.027 %)\n",
            "Number of data points in class 9 : 744 ( 0.963 %)\n",
            "Number of data points in class 10 : 386 ( 0.499 %)\n",
            "Number of data points in class 11 : 364 ( 0.471 %)\n",
            "Number of data points in class 12 : 359 ( 0.464 %)\n",
            "Number of data points in class 13 : 308 ( 0.398 %)\n",
            "Number of data points in class 14 : 179 ( 0.232 %)\n",
            "Number of data points in class 15 : 174 ( 0.225 %)\n",
            "Number of data points in class 16 : 155 ( 0.201 %)\n",
            "Number of data points in class 17 : 145 ( 0.188 %)\n",
            "Number of data points in class 18 : 80 ( 0.104 %)\n",
            "Number of data points in class 19 : 45 ( 0.058 %)\n",
            "Number of data points in class 20 : 22 ( 0.028 %)\n",
            "Number of data points in class 21 : 18 ( 0.023 %)\n",
            "Number of data points in class 22 : 17 ( 0.022 %)\n",
            "Number of data points in class 23 : 16 ( 0.021 %)\n",
            "Number of data points in class 24 : 15 ( 0.019 %)\n",
            "Number of data points in class 25 : 13 ( 0.017 %)\n",
            "Number of data points in class 26 : 13 ( 0.017 %)\n",
            "Number of data points in class 27 : 12 ( 0.016 %)\n",
            "Number of data points in class 29 : 9 ( 0.012 %)\n",
            "Number of data points in class 28 : 9 ( 0.012 %)\n",
            "Number of data points in class 30 : 4 ( 0.005 %)\n",
            "Number of data points in class 31 : 3 ( 0.004 %)\n",
            "Number of data points in class 37 : 2 ( 0.003 %)\n",
            "Number of data points in class 32 : 2 ( 0.003 %)\n",
            "Number of data points in class 33 : 2 ( 0.003 %)\n",
            "Number of data points in class 34 : 2 ( 0.003 %)\n",
            "Number of data points in class 35 : 2 ( 0.003 %)\n",
            "Number of data points in class 36 : 2 ( 0.003 %)\n",
            "Number of data points in class 38 : 1 ( 0.001 %)\n"
          ]
        }
      ]
    },
    {
      "cell_type": "markdown",
      "source": [
        "(I) MultiClass Classification Problem :- Univariate Analysis:-\n",
        "\n",
        "Duration:-"
      ],
      "metadata": {
        "id": "yp3a6QOGb5ir"
      }
    },
    {
      "cell_type": "code",
      "source": [
        "import seaborn as sns"
      ],
      "metadata": {
        "id": "7ysp8YbZbwRd"
      },
      "execution_count": null,
      "outputs": []
    },
    {
      "cell_type": "code",
      "source": [
        "plt.figure(figsize=(20,15))\n",
        "sns.violinplot(x=\"intrusion_type\", y=\"src_bytes\", data=data)\n",
        "plt.xticks(rotation=90)"
      ],
      "metadata": {
        "colab": {
          "base_uri": "https://localhost:8080/",
          "height": 1000
        },
        "id": "-jjEQdikcDs0",
        "outputId": "312dd839-411b-4ab8-f775-7425222043f0"
      },
      "execution_count": null,
      "outputs": [
        {
          "output_type": "execute_result",
          "data": {
            "text/plain": [
              "(array([ 0,  1,  2,  3,  4,  5,  6,  7,  8,  9, 10, 11, 12, 13, 14, 15, 16,\n",
              "        17, 18, 19, 20, 21, 22, 23, 24, 25, 26, 27, 28, 29, 30, 31, 32, 33,\n",
              "        34, 35, 36, 37]), <a list of 38 Text major ticklabel objects>)"
            ]
          },
          "metadata": {},
          "execution_count": 14
        },
        {
          "output_type": "display_data",
          "data": {
            "text/plain": [
              "<Figure size 1440x1080 with 1 Axes>"
            ],
            "image/png": "[encoded data removed]"
          },
          "metadata": {
            "needs_background": "light"
          }
        }
      ]
    },
    {
      "cell_type": "markdown",
      "source": [
        "Train Test Split:-"
      ],
      "metadata": {
        "id": "Eqas-2r8cJEU"
      }
    },
    {
      "cell_type": "code",
      "source": [
        "from sklearn.model_selection import train_test_split\n",
        "X_train, X_test, Y_train, Y_test = train_test_split(data.drop('intrusion_type', axis=1), data['intrusion_type'], test_size=0.25)"
      ],
      "metadata": {
        "id": "CBUtP9X2cNas"
      },
      "execution_count": null,
      "outputs": []
    },
    {
      "cell_type": "code",
      "source": [
        "print('Train data')\n",
        "print(X_train.shape)\n",
        "print(Y_train.shape)\n",
        "print('='*20)\n",
        "print('Test data')\n",
        "print(X_test.shape)\n",
        "print(Y_test.shape)"
      ],
      "metadata": {
        "colab": {
          "base_uri": "https://localhost:8080/"
        },
        "id": "kD_PZ-ztcQkN",
        "outputId": "4ebb6f10-0088-4651-c406-c9e659a168ef"
      },
      "execution_count": null,
      "outputs": [
        {
          "output_type": "stream",
          "name": "stdout",
          "text": [
            "Train data\n",
            "(57968, 41)\n",
            "(57968,)\n",
            "====================\n",
            "Test data\n",
            "(19323, 41)\n",
            "(19323,)\n"
          ]
        }
      ]
    },
    {
      "cell_type": "markdown",
      "source": [
        "Vectorizing Categorical features using one-hot encoding:-\n",
        "\n",
        "Categorical features in our dataset are:- 'protocol_type', 'service', and 'flag'.\n",
        "\n",
        "Protocol_type:-"
      ],
      "metadata": {
        "id": "7sWOjHO0cW2g"
      }
    },
    {
      "cell_type": "code",
      "source": [
        "protocol = list(X_train['protocol_type'].values)\n",
        "protocol = list(set(protocol))\n",
        "print('Protocol types are:', protocol)"
      ],
      "metadata": {
        "colab": {
          "base_uri": "https://localhost:8080/"
        },
        "id": "77dLGUcvcUAM",
        "outputId": "8224864b-bd50-4c38-e598-a012ab42c4ad"
      },
      "execution_count": null,
      "outputs": [
        {
          "output_type": "stream",
          "name": "stdout",
          "text": [
            "Protocol types are: ['tcp', 'udp', 'icmp']\n"
          ]
        }
      ]
    },
    {
      "cell_type": "code",
      "source": [
        "from sklearn.feature_extraction.text import CountVectorizer\n",
        "one_hot = CountVectorizer(vocabulary=protocol, binary=True)\n",
        "train_protocol = one_hot.fit_transform(X_train['protocol_type'].values)\n",
        "test_protocol = one_hot.transform(X_test['protocol_type'].values)"
      ],
      "metadata": {
        "id": "QpLN5oW5cg9A"
      },
      "execution_count": null,
      "outputs": []
    },
    {
      "cell_type": "code",
      "source": [
        "print(train_protocol[1].toarray())\n",
        "train_protocol.shape"
      ],
      "metadata": {
        "colab": {
          "base_uri": "https://localhost:8080/"
        },
        "id": "GfKOR_BDciM0",
        "outputId": "49ef208f-050f-4eec-92f3-def349bbc2b8"
      },
      "execution_count": null,
      "outputs": [
        {
          "output_type": "stream",
          "name": "stdout",
          "text": [
            "[[1 0 0]]\n"
          ]
        },
        {
          "output_type": "execute_result",
          "data": {
            "text/plain": [
              "(57968, 3)"
            ]
          },
          "metadata": {},
          "execution_count": 19
        }
      ]
    },
    {
      "cell_type": "markdown",
      "source": [
        "Service:-"
      ],
      "metadata": {
        "id": "IS1WHTjYcpjk"
      }
    },
    {
      "cell_type": "code",
      "source": [
        "service = list(X_train['service'].values)\n",
        "service = list(set(service))\n",
        "print('Service types are:\\n', service)"
      ],
      "metadata": {
        "colab": {
          "base_uri": "https://localhost:8080/"
        },
        "id": "hRYecDN8cmUk",
        "outputId": "f33a187a-e982-4992-bc5a-20f84e53cfc1"
      },
      "execution_count": null,
      "outputs": [
        {
          "output_type": "stream",
          "name": "stdout",
          "text": [
            "Service types are:\n",
            " ['urp_i', 'sql_net', 'exec', 'kshell', 'name', 'supdup', 'uucp_path', 'ftp_data', 'tim_i', 'eco_i', 'private', 'login', 'icmp', 'shell', 'bgp', 'netbios_ns', 'iso_tsap', 'domain_u', 'whois', 'Z39_50', 'imap4', 'pop_2', 'netbios_dgm', 'daytime', 'domain', 'tftp_u', 'link', 'gopher', 'telnet', 'ecr_i', 'rje', 'printer', 'other', 'ftp', 'smtp', 'time', 'finger', 'echo', 'X11', 'pop_3', 'csnet_ns', 'http', 'remote_job', 'ctf', 'ssh', 'klogin', 'discard', 'IRC', 'mtp', 'ntp_u', 'sunrpc', 'vmnet', 'systat', 'efs', 'hostnames', 'nntp', 'auth', 'pm_dump', 'uucp', 'http_443', 'courier', 'netbios_ssn', 'nnsp', 'ldap', 'netstat']\n"
          ]
        }
      ]
    },
    {
      "cell_type": "code",
      "source": [
        "from sklearn.feature_extraction.text import CountVectorizer\n",
        "one_hot = CountVectorizer(vocabulary=service, binary=True)\n",
        "train_service = one_hot.fit_transform(X_train['service'].values)\n",
        "test_service = one_hot.transform(X_test['service'].values)"
      ],
      "metadata": {
        "id": "KB5BHmG4cvl9"
      },
      "execution_count": null,
      "outputs": []
    },
    {
      "cell_type": "code",
      "source": [
        "print(train_service[100].toarray())"
      ],
      "metadata": {
        "colab": {
          "base_uri": "https://localhost:8080/"
        },
        "id": "BJsW2i8dc0GN",
        "outputId": "40be274b-f9ab-407f-fe2a-3ab3db9b4b50"
      },
      "execution_count": null,
      "outputs": [
        {
          "output_type": "stream",
          "name": "stdout",
          "text": [
            "[[0 0 0 0 0 0 0 0 0 0 1 0 0 0 0 0 0 0 0 0 0 0 0 0 0 0 0 0 0 0 0 0 0 0 0 0\n",
            "  0 0 0 0 0 0 0 0 0 0 0 0 0 0 0 0 0 0 0 0 0 0 0 0 0 0 0 0 0]]\n"
          ]
        }
      ]
    },
    {
      "cell_type": "code",
      "source": [
        "train_service.shape"
      ],
      "metadata": {
        "colab": {
          "base_uri": "https://localhost:8080/"
        },
        "id": "BXsLSgunc6-8",
        "outputId": "d39c93c6-50ed-460f-c7c2-3925430c14b5"
      },
      "execution_count": null,
      "outputs": [
        {
          "output_type": "execute_result",
          "data": {
            "text/plain": [
              "(57968, 65)"
            ]
          },
          "metadata": {},
          "execution_count": 23
        }
      ]
    },
    {
      "cell_type": "markdown",
      "source": [
        "Flag:-"
      ],
      "metadata": {
        "id": "TuDrB_S7dES0"
      }
    },
    {
      "cell_type": "code",
      "source": [
        "flag = list(X_train['flag'].values)\n",
        "flag = list(set(flag))\n",
        "print('flag types are:', flag)"
      ],
      "metadata": {
        "colab": {
          "base_uri": "https://localhost:8080/"
        },
        "id": "jN79ZH4VdCq-",
        "outputId": "4785a440-ffc0-4f65-b833-5238225d1e2c"
      },
      "execution_count": null,
      "outputs": [
        {
          "output_type": "stream",
          "name": "stdout",
          "text": [
            "flag types are: ['RSTR', 'SH', 'S3', 'OTH', 'REJ', 'SF', 'S1', 'S0', 'RSTO', 'S2']\n"
          ]
        }
      ]
    },
    {
      "cell_type": "code",
      "source": [
        "from sklearn.feature_extraction.text import CountVectorizer\n",
        "one_hot = CountVectorizer(binary=True)\n",
        "one_hot.fit(X_train['flag'].values)\n",
        "train_flag = one_hot.transform(X_train['flag'].values)\n",
        "test_flag = one_hot.transform(X_test['flag'].values)"
      ],
      "metadata": {
        "id": "nZGktzRbdLlE"
      },
      "execution_count": null,
      "outputs": []
    },
    {
      "cell_type": "code",
      "source": [
        "print(test_flag[3000].toarray())\n",
        "train_flag.shape"
      ],
      "metadata": {
        "colab": {
          "base_uri": "https://localhost:8080/"
        },
        "id": "f9oq10VadM7m",
        "outputId": "7fccd7ba-655f-4ab6-f6df-dacd8141322a"
      },
      "execution_count": null,
      "outputs": [
        {
          "output_type": "stream",
          "name": "stdout",
          "text": [
            "[[0 1 0 0 0 0 0 0 0 0]]\n"
          ]
        },
        {
          "output_type": "execute_result",
          "data": {
            "text/plain": [
              "(57968, 10)"
            ]
          },
          "metadata": {},
          "execution_count": 26
        }
      ]
    },
    {
      "cell_type": "code",
      "source": [
        "X_train.drop(['protocol_type','service','flag'], axis=1, inplace=True)\n",
        "X_test.drop(['protocol_type','service','flag'], axis=1, inplace=True)"
      ],
      "metadata": {
        "id": "fWVcbeGYdUBm"
      },
      "execution_count": null,
      "outputs": []
    },
    {
      "cell_type": "markdown",
      "source": [
        "Applying Standardisation on the continuous features of our dataset:-"
      ],
      "metadata": {
        "id": "3BE6nwlRdZIc"
      }
    },
    {
      "cell_type": "code",
      "source": [
        "def feature_scaling(X_train, X_test, feature_name):\n",
        "    \n",
        "    '''\n",
        "    This function performs standardisation on the features\n",
        "    '''\n",
        "    \n",
        "    from sklearn.preprocessing import StandardScaler\n",
        "\n",
        "    scaler = StandardScaler()\n",
        "    scaler1 = scaler.fit_transform(X_train[feature_name].values.reshape(-1,1))\n",
        "    scaler2 = scaler.transform(X_test[feature_name].values.reshape(-1,1))\n",
        "    \n",
        "    return scaler1, scaler2"
      ],
      "metadata": {
        "id": "HD-VE-S2dVXd"
      },
      "execution_count": null,
      "outputs": []
    },
    {
      "cell_type": "code",
      "source": [
        "duration1, duration2 = feature_scaling(X_train, X_test, 'duration')\n",
        "src_bytes1, src_bytes2 = feature_scaling(X_train, X_test, 'src_bytes')\n",
        "dst_bytes1, dst_bytes2 = feature_scaling(X_train, X_test, 'dst_bytes')\n",
        "wrong_fragment1, wrong_fragment2 = feature_scaling(X_train, X_test, 'wrong_fragment')\n",
        "urgent1, urgent2 = feature_scaling(X_train, X_test, 'urgent')\n",
        "hot1, hot2 = feature_scaling(X_train, X_test, 'hot')\n",
        "num_failed_logins1, num_failed_logins2 = feature_scaling(X_train, X_test, 'num_failed_logins')\n",
        "num_compromised1, num_compromised2 = feature_scaling(X_train, X_test, 'num_compromised')\n",
        "root_shell1, root_shell2 = feature_scaling(X_train, X_test, 'root_shell')\n",
        "su_attempted1, su_attempted2 = feature_scaling(X_train, X_test, 'su_attempted')\n",
        "num_root1, num_root2 = feature_scaling(X_train, X_test, 'num_root')\n",
        "num_file_creations1, num_file_creations2 = feature_scaling(X_train, X_test, 'num_file_creations')\n",
        "num_shells1, num_shells2 = feature_scaling(X_train, X_test, 'num_shells')\n",
        "num_access_files1, num_access_files2 = feature_scaling(X_train, X_test, 'num_access_files')\n",
        "data['num_outbound_cmds'].value_counts() #- We will not use 'num_outbound_cmds' feature as it has all zero values.\n",
        "srv_count1, srv_count2 = feature_scaling(X_train, X_test, 'srv_count')\n",
        "serror_rate1, serror_rate2 = feature_scaling(X_train, X_test, 'serror_rate')\n",
        "srv_serror_rate1, srv_serror_rate2 = feature_scaling(X_train, X_test, 'srv_serror_rate')\n",
        "rerror_rate1, rerror_rate2 = feature_scaling(X_train, X_test, 'rerror_rate')\n",
        "srv_rerror_rate1, srv_rerror_rate2 = feature_scaling(X_train, X_test, 'srv_rerror_rate')\n",
        "same_srv_rate1, same_srv_rate2 = feature_scaling(X_train, X_test, 'same_srv_rate')\n",
        "diff_srv_rate1, diff_srv_rate2 = feature_scaling(X_train, X_test, 'diff_srv_rate')\n",
        "srv_diff_host_rate1, srv_diff_host_rate2 = feature_scaling(X_train, X_test, 'srv_diff_host_rate')\n",
        "dst_host_count1, dst_host_count2 = feature_scaling(X_train, X_test, 'dst_host_count')\n",
        "dst_host_srv_count1, dst_host_srv_count2 = feature_scaling(X_train, X_test, 'dst_host_srv_count')\n",
        "dst_host_same_srv_rate1, dst_host_same_srv_rate2= feature_scaling(X_train, X_test, 'dst_host_same_srv_rate')\n",
        "dst_host_diff_srv_rate1, dst_host_diff_srv_rate2 = feature_scaling(X_train, X_test, 'dst_host_diff_srv_rate')\n",
        "dst_host_same_src_port_rate1, dst_host_same_src_port_rate2 = feature_scaling(X_train, X_test, 'dst_host_same_src_port_rate')\n",
        "dst_host_srv_diff_host_rate1, dst_host_srv_diff_host_rate2 = feature_scaling(X_train, X_test, 'dst_host_srv_diff_host_rate')\n",
        "dst_host_serror_rate1, dst_host_serror_rate2 = feature_scaling(X_train, X_test, 'dst_host_serror_rate')\n",
        "dst_host_srv_serror_rate1, dst_host_srv_serror_rate2 = feature_scaling(X_train, X_test, 'dst_host_srv_serror_rate')\n",
        "dst_host_rerror_rate1, dst_host_rerror_rate2 = feature_scaling(X_train, X_test, 'dst_host_rerror_rate')\n",
        "dst_host_srv_rerror_rate1, dst_host_srv_rerror_rate2 = feature_scaling(X_train, X_test, 'dst_host_srv_rerror_rate')\n",
        "num_failed_logins1, num_failed_logins2 = feature_scaling(X_train, X_test, 'num_failed_logins')\n",
        "land1, land2 = np.array([X_train['land'].values]), np.array([X_test['land'].values])\n",
        "is_host_login1, is_host_login2 = np.array([X_train['is_host_login'].values]), np.array([X_test['is_host_login'].values])\n",
        "is_guest_login1, is_guest_login2 = np.array([X_train['is_guest_login'].values]), np.array([X_test['is_guest_login'].values])\n",
        "logged_in1, logged_in2 = np.array([X_train['logged_in'].values]), np.array([X_test['logged_in'].values])\n",
        "count1, count2 = feature_scaling(X_train, X_test, 'count')\n",
        "dst_host_diff_srv_rate1, dst_host_diff_srv_rate2 = feature_scaling(X_train, X_test, 'dst_host_diff_srv_rate')"
      ],
      "metadata": {
        "id": "Na06yYa2deZ9"
      },
      "execution_count": null,
      "outputs": []
    },
    {
      "cell_type": "code",
      "source": [
        "print(duration1[1])\n",
        "print(src_bytes1[1])\n",
        "print(dst_bytes1[1])\n",
        "print(wrong_fragment1[1])\n",
        "print(urgent1[1])\n",
        "print(hot1[1])\n",
        "print(num_failed_logins1[1])\n",
        "num_compromised1[1]\n",
        "root_shell1[1]\n",
        "su_attempted1[1]\n",
        "num_root1[1]\n",
        "num_file_creations1[1]\n",
        "num_shells1[1]\n",
        "num_access_files1[1]\n",
        "srv_count1[1]\n",
        "serror_rate1[1]\n",
        "srv_serror_rate1[1]\n",
        "rerror_rate1[1]\n",
        "srv_rerror_rate1[1]\n",
        "same_srv_rate1[1]\n",
        "diff_srv_rate1[1]\n",
        "srv_diff_host_rate1[1]\n",
        "dst_host_count1[1]\n",
        "dst_host_srv_count1[1]\n",
        "dst_host_same_srv_rate1[1]\n",
        "dst_host_diff_srv_rate1[1]\n",
        "dst_host_same_src_port_rate1[1]\n",
        "dst_host_srv_diff_host_rate1[1]\n",
        "dst_host_serror_rate1[1]\n",
        "dst_host_srv_serror_rate1[1]\n",
        "dst_host_rerror_rate1[1]\n",
        "dst_host_srv_rerror_rate1[1]\n",
        "num_failed_logins1[1]\n",
        "land1.shape\n",
        "is_host_login1.shape\n",
        "is_guest_login1.shape\n",
        "logged_in1.shape\n",
        "count1[1]\n",
        "dst_host_diff_srv_rate1[1]"
      ],
      "metadata": {
        "colab": {
          "base_uri": "https://localhost:8080/"
        },
        "id": "nXfSe2hWdjdO",
        "outputId": "e739db98-3d4f-4ae4-8b8c-af9c14bd6602"
      },
      "execution_count": null,
      "outputs": [
        {
          "output_type": "stream",
          "name": "stdout",
          "text": [
            "[-0.08755055]\n",
            "[-0.0208116]\n",
            "[-0.08899268]\n",
            "[-0.03282409]\n",
            "[-0.01156984]\n",
            "[-0.08227513]\n",
            "[-0.07894145]\n"
          ]
        },
        {
          "output_type": "execute_result",
          "data": {
            "text/plain": [
              "array([0.17713177])"
            ]
          },
          "metadata": {},
          "execution_count": 30
        }
      ]
    },
    {
      "cell_type": "code",
      "source": [
        "#Merging categorical and continuous features:-\n",
        "from scipy.sparse import hstack"
      ],
      "metadata": {
        "id": "xccU2E_3dn21"
      },
      "execution_count": null,
      "outputs": []
    },
    {
      "cell_type": "code",
      "source": [
        "X_train_1 = hstack((duration1, train_protocol, train_service, train_flag, src_bytes1,\n",
        "       dst_bytes1, land1.T, wrong_fragment1, urgent1, hot1,\n",
        "       num_failed_logins1, logged_in1.T, num_compromised1, root_shell1,\n",
        "       su_attempted1, num_root1, num_file_creations1, num_shells1,\n",
        "       num_access_files1, is_host_login1.T,\n",
        "       is_guest_login1.T, count1, srv_count1, serror_rate1,\n",
        "       srv_serror_rate1, rerror_rate1, srv_rerror_rate1, same_srv_rate1,\n",
        "       diff_srv_rate1, srv_diff_host_rate1, dst_host_count1,\n",
        "       dst_host_srv_count1, dst_host_same_srv_rate1,\n",
        "       dst_host_diff_srv_rate1, dst_host_same_src_port_rate1,\n",
        "       dst_host_srv_diff_host_rate1, dst_host_serror_rate1,\n",
        "       dst_host_srv_serror_rate1, dst_host_rerror_rate1,\n",
        "       dst_host_srv_rerror_rate1))"
      ],
      "metadata": {
        "id": "Q_r3bMk8dwWz"
      },
      "execution_count": null,
      "outputs": []
    },
    {
      "cell_type": "code",
      "source": [
        "X_train_1.shape"
      ],
      "metadata": {
        "colab": {
          "base_uri": "https://localhost:8080/"
        },
        "id": "qowGo5TBd01U",
        "outputId": "02e20f4c-a996-4ae7-f48e-f0db40e28273"
      },
      "execution_count": null,
      "outputs": [
        {
          "output_type": "execute_result",
          "data": {
            "text/plain": [
              "(57968, 115)"
            ]
          },
          "metadata": {},
          "execution_count": 33
        }
      ]
    },
    {
      "cell_type": "code",
      "source": [
        "X_test_1 = hstack((duration2, test_protocol, test_service, test_flag, src_bytes2,\n",
        "       dst_bytes2, land2.T, wrong_fragment2, urgent2, hot2,\n",
        "       num_failed_logins2, logged_in2.T, num_compromised2, root_shell2,\n",
        "       su_attempted2, num_root2, num_file_creations2, num_shells2,\n",
        "       num_access_files2, is_host_login2.T,\n",
        "       is_guest_login2.T, count2, srv_count2, serror_rate2,\n",
        "       srv_serror_rate2, rerror_rate2, srv_rerror_rate2, same_srv_rate2,\n",
        "       diff_srv_rate2, srv_diff_host_rate2, dst_host_count2,\n",
        "       dst_host_srv_count2, dst_host_same_srv_rate2,\n",
        "       dst_host_diff_srv_rate2, dst_host_same_src_port_rate2,\n",
        "       dst_host_srv_diff_host_rate2, dst_host_serror_rate2,\n",
        "       dst_host_srv_serror_rate2, dst_host_rerror_rate2,\n",
        "       dst_host_srv_rerror_rate2))"
      ],
      "metadata": {
        "id": "8mAxhtG2d3tl"
      },
      "execution_count": null,
      "outputs": []
    },
    {
      "cell_type": "code",
      "source": [
        "X_test_1.shape"
      ],
      "metadata": {
        "colab": {
          "base_uri": "https://localhost:8080/"
        },
        "id": "WSN7iyPLd7dr",
        "outputId": "2484c87c-bde2-4ee9-d8e8-30c91e6382d2"
      },
      "execution_count": null,
      "outputs": [
        {
          "output_type": "execute_result",
          "data": {
            "text/plain": [
              "(19323, 115)"
            ]
          },
          "metadata": {},
          "execution_count": 35
        }
      ]
    },
    {
      "cell_type": "code",
      "source": [
        "import joblib\n",
        "joblib.dump(X_train_1,'X_train_1.pkl')\n",
        "joblib.dump(X_test_1,'X_test_1.pkl')\n",
        "X_train_1 = joblib.load('X_train_1.pkl')\n",
        "X_test_1 = joblib.load('X_test_1.pkl')"
      ],
      "metadata": {
        "id": "5JC5UxlWd-aF"
      },
      "execution_count": null,
      "outputs": []
    },
    {
      "cell_type": "code",
      "source": [
        "joblib.dump(Y_train,'Y_train.pkl')\n",
        "joblib.dump(Y_test,'Y_test.pkl')\n",
        "Y_train = joblib.load('Y_train.pkl')\n",
        "Y_test = joblib.load('Y_test.pkl')"
      ],
      "metadata": {
        "id": "T9dlOuPgeBFu"
      },
      "execution_count": null,
      "outputs": []
    },
    {
      "cell_type": "code",
      "source": [
        "#Utility Functions:-\n",
        "import datetime as dt\n",
        "from sklearn.metrics import accuracy_score, confusion_matrix, roc_auc_score, precision_score, recall_score, f1_score\n",
        "from sklearn.model_selection import GridSearchCV, RandomizedSearchCV"
      ],
      "metadata": {
        "id": "jdHHpMo2eD58"
      },
      "execution_count": null,
      "outputs": []
    },
    {
      "cell_type": "code",
      "source": [
        "def confusion_matrix_func(Y_test, y_test_pred):\n",
        "    '''\n",
        "    This function plots the confusion matrix heatmap using the actual and predicted values.\n",
        "    '''\n",
        "    C = confusion_matrix(Y_test, y_test_pred)\n",
        "    cm_df = pd.DataFrame(C)\n",
        "    labels = ['back', 'butter_overflow', 'loadmodule', 'guess_passwd', 'imap', 'ipsweep', 'warezmaster', 'rootkit', \n",
        "              'multihop', 'neptune', 'nmap', 'normal', 'phf', 'perl', 'pod', 'portsweep', 'ftp_write', 'satan', 'smurf',\n",
        "              'teardrop', 'warezclient', 'land']\n",
        "    plt.figure(figsize=(20,15))\n",
        "    sns.set(font_scale=1.4)\n",
        "    sns.heatmap(cm_df, annot=True, annot_kws={\"size\":12}, fmt='g', xticklabels=labels, yticklabels=labels)\n",
        "    plt.ylabel('Actual Class')\n",
        "    plt.xlabel('Predicted Class')\n",
        "    \n",
        "    plt.show()"
      ],
      "metadata": {
        "id": "2y-XcsTVeHTO"
      },
      "execution_count": null,
      "outputs": []
    },
    {
      "cell_type": "code",
      "source": [
        "def model(model_name, X_train, Y_train, X_test, Y_test):\n",
        "    \n",
        "    '''\n",
        "    This function computes the performance scores on the train and test data.\n",
        "    '''\n",
        "    \n",
        "    print('Fitting the model and prediction on train data:')\n",
        "    start = dt.datetime.now()\n",
        "    model_name.fit(X_train, Y_train)\n",
        "    y_tr_pred = model_name.predict(X_train)\n",
        "    print('Completed')\n",
        "    print('Time taken:',dt.datetime.now()-start)\n",
        "    print('='*50)\n",
        "    \n",
        "    results_tr = dict()\n",
        "    y_tr_pred = model_name.predict(X_train)    \n",
        "    results_tr['precision'] = precision_score(Y_train, y_tr_pred, average='weighted')\n",
        "    results_tr['recall'] = recall_score(Y_train, y_tr_pred, average='weighted')\n",
        "    results_tr['f1_score'] = f1_score(Y_train, y_tr_pred, average='weighted')\n",
        "    \n",
        "    results_test = dict()\n",
        "    print('Prediction on test data:')\n",
        "    start = dt.datetime.now()\n",
        "    y_test_pred = model_name.predict(X_test)\n",
        "    print('Completed')\n",
        "    print('Time taken:',dt.datetime.now()-start)\n",
        "    print('='*50)\n",
        "    \n",
        "    print('Performance metrics:')\n",
        "    print('='*50)\n",
        "    print('Confusion Matrix is:')\n",
        "    confusion_matrix_func(Y_test, y_test_pred)\n",
        "    print('='*50)\n",
        "    results_test['precision'] = precision_score(Y_test, y_test_pred, average='weighted')\n",
        "    print('Precision score is:')\n",
        "    print(precision_score(Y_test, y_test_pred, average='weighted'))\n",
        "    print('='*50)\n",
        "    results_test['recall'] = recall_score(Y_test, y_test_pred, average='weighted')\n",
        "    print('Recall score is:')\n",
        "    print(recall_score(Y_test, y_test_pred, average='weighted'))\n",
        "    print('='*50)\n",
        "    results_test['f1_score'] = f1_score(Y_test, y_test_pred, average='weighted')\n",
        "    print('F1-score is:')\n",
        "    print(f1_score(Y_test, y_test_pred, average='weighted'))\n",
        "    # add the trained  model to the results\n",
        "    results_test['model'] = model\n",
        "    \n",
        "    return results_tr, results_test"
      ],
      "metadata": {
        "id": "cISpU8kBeLmW"
      },
      "execution_count": null,
      "outputs": []
    },
    {
      "cell_type": "code",
      "source": [
        "def print_grid_search_attributes(model):\n",
        "    \n",
        "    '''\n",
        "    This function prints all the grid search attributes\n",
        "    '''\n",
        "    \n",
        "    print('---------------------------')\n",
        "    print('|      Best Estimator     |')\n",
        "    print('---------------------------')\n",
        "    print('\\n\\t{}\\n'.format(model.best_estimator_))\n",
        "\n",
        "\n",
        "    # parameters that gave best results while performing grid search\n",
        "    print('---------------------------')\n",
        "    print('|     Best parameters     |')\n",
        "    print('---------------------------')\n",
        "    print('\\tParameters of best estimator : \\n\\n\\t{}\\n'.format(model.best_params_))\n",
        "\n",
        "\n",
        "    #  number of cross validation splits\n",
        "    print('----------------------------------')\n",
        "    print('|   No of CrossValidation sets   |')\n",
        "    print('----------------------------------')\n",
        "    print('\\n\\tTotal numbre of cross validation sets: {}\\n'.format(model.n_splits_))\n",
        "\n",
        "\n",
        "    # Average cross validated score of the best estimator, from the Grid Search \n",
        "    print('---------------------------')\n",
        "    print('|        Best Score       |')\n",
        "    print('---------------------------')\n",
        "    print('\\n\\tAverage Cross Validate scores of best estimator : \\n\\n\\t{}\\n'.format(model.best_score_))"
      ],
      "metadata": {
        "id": "QlacgkXceQN8"
      },
      "execution_count": null,
      "outputs": []
    },
    {
      "cell_type": "code",
      "source": [
        "def tpr_fpr_func(Y_tr, Y_pred):\n",
        "    '''\n",
        "    This function computes the TPR and FPR scores using the actual and predicetd values\n",
        "    '''\n",
        "    results = dict()\n",
        "    Y_tr = Y_tr.to_list()\n",
        "    tp = 0; fp = 0; positives = 0; negatives = 0; length = len(Y_tr)\n",
        "    for i in range(len(Y_tr)):\n",
        "        if Y_tr[i]=='normal.':\n",
        "            positives += 1\n",
        "        else:\n",
        "            negatives += 1\n",
        "            \n",
        "    for i in range(len(Y_pred)):\n",
        "        if Y_tr[i]=='normal.' and Y_pred[i]=='normal.':\n",
        "            tp += 1\n",
        "        elif Y_tr[i]!='normal.' and Y_pred[i]=='normal.':\n",
        "            fp += 1\n",
        "            \n",
        "    tpr = tp/positives\n",
        "    fpr = fp/negatives\n",
        "    \n",
        "    results['tp'] = tp; results['tpr'] = tpr; results['fp'] = fp; results['fpr'] = fpr\n",
        "    \n",
        "    return results"
      ],
      "metadata": {
        "id": "Iu9LYT15eUzO"
      },
      "execution_count": null,
      "outputs": []
    },
    {
      "cell_type": "code",
      "source": [
        "#Model_3 :- SVM (SGD_Classifier with loss='hinge')\n",
        "\n",
        "hyperparameter = {'alpha':[10**x for x in range(-8,3)], 'penalty':['l1', 'l2']}\n",
        "\n",
        "from sklearn.linear_model import SGDClassifier\n",
        "svm = SGDClassifier(loss='hinge')\n",
        "svm_grid = GridSearchCV(svm, param_grid=hyperparameter, cv=5, verbose=1, n_jobs=-1)"
      ],
      "metadata": {
        "id": "-hO3flk1eYnl"
      },
      "execution_count": null,
      "outputs": []
    },
    {
      "cell_type": "code",
      "source": [
        "svm_grid_results_tr, svm_grid_results_test = model(svm_grid, X_train_1.toarray(), Y_train, X_test_1.toarray(), Y_test)"
      ],
      "metadata": {
        "colab": {
          "base_uri": "https://localhost:8080/",
          "height": 1000
        },
        "id": "7NIJI8oHebfV",
        "outputId": "c2c0ac9a-d189-427e-9848-8d3363e30f3b"
      },
      "execution_count": null,
      "outputs": [
        {
          "output_type": "stream",
          "name": "stdout",
          "text": [
            "Fitting the model and prediction on train data:\n",
            "Fitting 5 folds for each of 22 candidates, totalling 110 fits\n",
            "Completed\n",
            "Time taken: 0:25:48.235172\n",
            "==================================================\n",
            "Prediction on test data:\n",
            "Completed\n",
            "Time taken: 0:00:00.022069\n",
            "==================================================\n",
            "Performance metrics:\n",
            "==================================================\n",
            "Confusion Matrix is:\n"
          ]
        },
        {
          "output_type": "display_data",
          "data": {
            "text/plain": [
              "<Figure size 1440x1080 with 2 Axes>"
            ],
            "image/png": "[encoded data removed]"
          },
          "metadata": {
            "needs_background": "light"
          }
        },
        {
          "output_type": "stream",
          "name": "stdout",
          "text": [
            "==================================================\n",
            "Precision score is:\n",
            "0.979451573123007\n",
            "==================================================\n",
            "Recall score is:\n",
            "0.9812140971898774\n",
            "==================================================\n",
            "F1-score is:\n",
            "0.9797285143928639\n"
          ]
        }
      ]
    },
    {
      "cell_type": "code",
      "source": [
        "print_grid_search_attributes(svm_grid)"
      ],
      "metadata": {
        "id": "4YzPvy34efAE"
      },
      "execution_count": null,
      "outputs": []
    },
    {
      "cell_type": "code",
      "source": [
        "svm_gs = svm_grid.best_estimator_\n",
        "y_tr_pred = svm_gs.predict(X_train_1.toarray())\n",
        "y_test_pred = svm_gs.predict(X_test_1.toarray())\n",
        "svm_tpr_fpr_train = tpr_fpr_func(Y_train, y_tr_pred)\n",
        "svm_tpr_fpr_test = tpr_fpr_func(Y_test, y_test_pred)"
      ],
      "metadata": {
        "id": "Y25LsjDreitg"
      },
      "execution_count": null,
      "outputs": []
    },
    {
      "cell_type": "code",
      "source": [
        "svm_grid_results_tr"
      ],
      "metadata": {
        "id": "jmGkS5dzem6r"
      },
      "execution_count": null,
      "outputs": []
    },
    {
      "cell_type": "code",
      "source": [
        "svm_tpr_fpr_train"
      ],
      "metadata": {
        "id": "WXxQEMkver4K"
      },
      "execution_count": null,
      "outputs": []
    },
    {
      "cell_type": "code",
      "source": [
        "svm_grid_results_test"
      ],
      "metadata": {
        "id": "aLIrFLMAeuQM"
      },
      "execution_count": null,
      "outputs": []
    },
    {
      "cell_type": "code",
      "source": [
        "svm_tpr_fpr_test"
      ],
      "metadata": {
        "id": "QEPCFHaYex7u"
      },
      "execution_count": null,
      "outputs": []
    },
    {
      "cell_type": "code",
      "source": [],
      "metadata": {
        "id": "txnJK4rtexu9"
      },
      "execution_count": null,
      "outputs": []
    },
    {
      "cell_type": "code",
      "source": [],
      "metadata": {
        "id": "qfMYO4k7exgz"
      },
      "execution_count": null,
      "outputs": []
    },
    {
      "cell_type": "code",
      "source": [],
      "metadata": {
        "id": "X0cm1HDOexSb"
      },
      "execution_count": null,
      "outputs": []
    },
    {
      "cell_type": "code",
      "source": [],
      "metadata": {
        "id": "28XZWSBvexDm"
      },
      "execution_count": null,
      "outputs": []
    }
  ]
}