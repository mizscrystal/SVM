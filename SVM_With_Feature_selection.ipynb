{
  "nbformat": 4,
  "nbformat_minor": 0,
  "metadata": {
    "colab": {
      "provenance": [],
      "include_colab_link": true
    },
    "kernelspec": {
      "name": "python3",
      "display_name": "Python 3"
    },
    "language_info": {
      "name": "python"
    }
  },
  "cells": [
    {
      "cell_type": "markdown",
      "metadata": {
        "id": "view-in-github",
        "colab_type": "text"
      },
      "source": [
        "<a href=\"https://colab.research.google.com/github/mizscrystal/SVM/blob/main/SVM_With_Feature_selection.ipynb\" target=\"_parent\"><img src=\"https://colab.research.google.com/assets/colab-badge.svg\" alt=\"Open In Colab\"/></a>"
      ]
    },
    {
      "cell_type": "code",
      "execution_count": null,
      "metadata": {
        "id": "3rS5IDIBJ_sj"
      },
      "outputs": [],
      "source": [
        "import warnings\n",
        "warnings.filterwarnings(\"ignore\")\n",
        "import shutil\n",
        "import os\n",
        "import pandas as pd\n",
        "import matplotlib\n",
        "import matplotlib.pyplot as plt\n",
        "import seaborn as sns\n",
        "import numpy as np\n",
        "import pickle\n",
        "from sklearn.manifold import TSNE\n",
        "from sklearn import preprocessing\n",
        "import pandas as pd\n",
        "from multiprocessing import Process# this is used for multithreading\n",
        "import multiprocessing \n",
        "import random as r\n",
        "from xgboost import XGBClassifier\n",
        "from sklearn.model_selection import RandomizedSearchCV\n",
        "from sklearn.tree import DecisionTreeClassifier\n",
        "from sklearn.calibration import CalibratedClassifierCV\n",
        "from sklearn.neighbors import KNeighborsClassifier\n",
        "from sklearn.metrics import log_loss\n",
        "from sklearn.metrics import confusion_matrix\n",
        "from sklearn.model_selection import train_test_split\n",
        "from sklearn.linear_model import LogisticRegression\n",
        "from sklearn.ensemble import RandomForestClassifier\n",
        "from sklearn.cluster import MiniBatchKMeans"
      ]
    },
    {
      "cell_type": "code",
      "source": [
        "features = ['duration','protocol_type','service','flag','src_bytes','dst_bytes','land','wrong_fragment','urgent','hot','num_failed_logins','logged_in','num_compromised','root_shell','su_attempted',\n",
        "'num_root','num_file_creations','num_shells','num_access_files','num_outbound_cmds',\n",
        "'is_host_login',\n",
        "'is_guest_login',\n",
        "'count',\n",
        "'srv_count',\n",
        "'serror_rate',\n",
        "'srv_serror_rate',\n",
        "'rerror_rate',\n",
        "'srv_rerror_rate',\n",
        "'same_srv_rate',\n",
        "'diff_srv_rate',\n",
        "'srv_diff_host_rate',\n",
        "'dst_host_count',\n",
        "'dst_host_srv_count',\n",
        "'dst_host_same_srv_rate',\n",
        "'dst_host_diff_srv_rate',\n",
        "'dst_host_same_src_port_rate',\n",
        "'dst_host_srv_diff_host_rate',\n",
        "'dst_host_serror_rate',\n",
        "'dst_host_srv_serror_rate',\n",
        "'dst_host_rerror_rate',\n",
        "'dst_host_srv_rerror_rate',\n",
        "'intrusion_type']"
      ],
      "metadata": {
        "id": "zMUD-xoHc4Tv"
      },
      "execution_count": null,
      "outputs": []
    },
    {
      "cell_type": "code",
      "source": [
        "from google.colab import files\n",
        "dataset = files.upload()"
      ],
      "metadata": {
        "colab": {
          "resources": {
            "http://localhost:8080/nbextensions/google.colab/files.js": {
              "data": "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",
              "ok": true,
              "headers": [
                [
                  "content-type",
                  "application/javascript"
                ]
              ],
              "status": 200,
              "status_text": ""
            }
          },
          "base_uri": "https://localhost:8080/",
          "height": 74
        },
        "id": "GxhLTrnvdAyo",
        "outputId": "8dda63de-c59a-4838-de46-189ba6fc1b63"
      },
      "execution_count": null,
      "outputs": [
        {
          "output_type": "display_data",
          "data": {
            "text/plain": [
              "<IPython.core.display.HTML object>"
            ],
            "text/html": [
              "\n",
              "     <input type=\"file\" id=\"files-50a1c0e8-b4be-4494-b73e-f6185734678e\" name=\"files[]\" multiple disabled\n",
              "        style=\"border:none\" />\n",
              "     <output id=\"result-50a1c0e8-b4be-4494-b73e-f6185734678e\">\n",
              "      Upload widget is only available when the cell has been executed in the\n",
              "      current browser session. Please rerun this cell to enable.\n",
              "      </output>\n",
              "      <script src=\"/nbextensions/google.colab/files.js\"></script> "
            ]
          },
          "metadata": {}
        },
        {
          "output_type": "stream",
          "name": "stdout",
          "text": [
            "Saving kddcup.data_10_percent_corrected.gz to kddcup.data_10_percent_corrected (1).gz\n"
          ]
        }
      ]
    },
    {
      "cell_type": "code",
      "source": [
        "data = pd.read_csv('kddcup.data_10_percent_corrected.gz', names=features, header=None)\n",
        "data.head()"
      ],
      "metadata": {
        "colab": {
          "base_uri": "https://localhost:8080/",
          "height": 299
        },
        "id": "Ci0FKZTXdw5q",
        "outputId": "d3903caa-8aef-43f1-938f-9460711059a8"
      },
      "execution_count": null,
      "outputs": [
        {
          "output_type": "execute_result",
          "data": {
            "text/plain": [
              "   duration protocol_type  service flag  src_bytes  dst_bytes  land  \\\n",
              "0         0           udp  private   SF        105        146     0   \n",
              "1         0           udp  private   SF        105        146     0   \n",
              "2         0           udp  private   SF        105        146     0   \n",
              "3         0           udp  private   SF        105        146     0   \n",
              "4         0           udp  private   SF        105        146     0   \n",
              "\n",
              "   wrong_fragment  urgent  hot  ...  dst_host_srv_count  \\\n",
              "0               0       0    0  ...                 254   \n",
              "1               0       0    0  ...                 254   \n",
              "2               0       0    0  ...                 254   \n",
              "3               0       0    0  ...                 254   \n",
              "4               0       0    0  ...                 254   \n",
              "\n",
              "   dst_host_same_srv_rate  dst_host_diff_srv_rate  \\\n",
              "0                     1.0                    0.01   \n",
              "1                     1.0                    0.01   \n",
              "2                     1.0                    0.01   \n",
              "3                     1.0                    0.01   \n",
              "4                     1.0                    0.01   \n",
              "\n",
              "   dst_host_same_src_port_rate  dst_host_srv_diff_host_rate  \\\n",
              "0                         0.00                          0.0   \n",
              "1                         0.00                          0.0   \n",
              "2                         0.00                          0.0   \n",
              "3                         0.00                          0.0   \n",
              "4                         0.01                          0.0   \n",
              "\n",
              "   dst_host_serror_rate  dst_host_srv_serror_rate  dst_host_rerror_rate  \\\n",
              "0                   0.0                       0.0                   0.0   \n",
              "1                   0.0                       0.0                   0.0   \n",
              "2                   0.0                       0.0                   0.0   \n",
              "3                   0.0                       0.0                   0.0   \n",
              "4                   0.0                       0.0                   0.0   \n",
              "\n",
              "   dst_host_srv_rerror_rate  intrusion_type  \n",
              "0                       0.0         normal.  \n",
              "1                       0.0         normal.  \n",
              "2                       0.0         normal.  \n",
              "3                       0.0  snmpgetattack.  \n",
              "4                       0.0  snmpgetattack.  \n",
              "\n",
              "[5 rows x 42 columns]"
            ],
            "text/html": [
              "\n",
              "  <div id=\"df-c17d5271-d45b-4e3d-a405-13704c425639\">\n",
              "    <div class=\"colab-df-container\">\n",
              "      <div>\n",
              "<style scoped>\n",
              "    .dataframe tbody tr th:only-of-type {\n",
              "        vertical-align: middle;\n",
              "    }\n",
              "\n",
              "    .dataframe tbody tr th {\n",
              "        vertical-align: top;\n",
              "    }\n",
              "\n",
              "    .dataframe thead th {\n",
              "        text-align: right;\n",
              "    }\n",
              "</style>\n",
              "<table border=\"1\" class=\"dataframe\">\n",
              "  <thead>\n",
              "    <tr style=\"text-align: right;\">\n",
              "      <th></th>\n",
              "      <th>duration</th>\n",
              "      <th>protocol_type</th>\n",
              "      <th>service</th>\n",
              "      <th>flag</th>\n",
              "      <th>src_bytes</th>\n",
              "      <th>dst_bytes</th>\n",
              "      <th>land</th>\n",
              "      <th>wrong_fragment</th>\n",
              "      <th>urgent</th>\n",
              "      <th>hot</th>\n",
              "      <th>...</th>\n",
              "      <th>dst_host_srv_count</th>\n",
              "      <th>dst_host_same_srv_rate</th>\n",
              "      <th>dst_host_diff_srv_rate</th>\n",
              "      <th>dst_host_same_src_port_rate</th>\n",
              "      <th>dst_host_srv_diff_host_rate</th>\n",
              "      <th>dst_host_serror_rate</th>\n",
              "      <th>dst_host_srv_serror_rate</th>\n",
              "      <th>dst_host_rerror_rate</th>\n",
              "      <th>dst_host_srv_rerror_rate</th>\n",
              "      <th>intrusion_type</th>\n",
              "    </tr>\n",
              "  </thead>\n",
              "  <tbody>\n",
              "    <tr>\n",
              "      <th>0</th>\n",
              "      <td>0</td>\n",
              "      <td>udp</td>\n",
              "      <td>private</td>\n",
              "      <td>SF</td>\n",
              "      <td>105</td>\n",
              "      <td>146</td>\n",
              "      <td>0</td>\n",
              "      <td>0</td>\n",
              "      <td>0</td>\n",
              "      <td>0</td>\n",
              "      <td>...</td>\n",
              "      <td>254</td>\n",
              "      <td>1.0</td>\n",
              "      <td>0.01</td>\n",
              "      <td>0.00</td>\n",
              "      <td>0.0</td>\n",
              "      <td>0.0</td>\n",
              "      <td>0.0</td>\n",
              "      <td>0.0</td>\n",
              "      <td>0.0</td>\n",
              "      <td>normal.</td>\n",
              "    </tr>\n",
              "    <tr>\n",
              "      <th>1</th>\n",
              "      <td>0</td>\n",
              "      <td>udp</td>\n",
              "      <td>private</td>\n",
              "      <td>SF</td>\n",
              "      <td>105</td>\n",
              "      <td>146</td>\n",
              "      <td>0</td>\n",
              "      <td>0</td>\n",
              "      <td>0</td>\n",
              "      <td>0</td>\n",
              "      <td>...</td>\n",
              "      <td>254</td>\n",
              "      <td>1.0</td>\n",
              "      <td>0.01</td>\n",
              "      <td>0.00</td>\n",
              "      <td>0.0</td>\n",
              "      <td>0.0</td>\n",
              "      <td>0.0</td>\n",
              "      <td>0.0</td>\n",
              "      <td>0.0</td>\n",
              "      <td>normal.</td>\n",
              "    </tr>\n",
              "    <tr>\n",
              "      <th>2</th>\n",
              "      <td>0</td>\n",
              "      <td>udp</td>\n",
              "      <td>private</td>\n",
              "      <td>SF</td>\n",
              "      <td>105</td>\n",
              "      <td>146</td>\n",
              "      <td>0</td>\n",
              "      <td>0</td>\n",
              "      <td>0</td>\n",
              "      <td>0</td>\n",
              "      <td>...</td>\n",
              "      <td>254</td>\n",
              "      <td>1.0</td>\n",
              "      <td>0.01</td>\n",
              "      <td>0.00</td>\n",
              "      <td>0.0</td>\n",
              "      <td>0.0</td>\n",
              "      <td>0.0</td>\n",
              "      <td>0.0</td>\n",
              "      <td>0.0</td>\n",
              "      <td>normal.</td>\n",
              "    </tr>\n",
              "    <tr>\n",
              "      <th>3</th>\n",
              "      <td>0</td>\n",
              "      <td>udp</td>\n",
              "      <td>private</td>\n",
              "      <td>SF</td>\n",
              "      <td>105</td>\n",
              "      <td>146</td>\n",
              "      <td>0</td>\n",
              "      <td>0</td>\n",
              "      <td>0</td>\n",
              "      <td>0</td>\n",
              "      <td>...</td>\n",
              "      <td>254</td>\n",
              "      <td>1.0</td>\n",
              "      <td>0.01</td>\n",
              "      <td>0.00</td>\n",
              "      <td>0.0</td>\n",
              "      <td>0.0</td>\n",
              "      <td>0.0</td>\n",
              "      <td>0.0</td>\n",
              "      <td>0.0</td>\n",
              "      <td>snmpgetattack.</td>\n",
              "    </tr>\n",
              "    <tr>\n",
              "      <th>4</th>\n",
              "      <td>0</td>\n",
              "      <td>udp</td>\n",
              "      <td>private</td>\n",
              "      <td>SF</td>\n",
              "      <td>105</td>\n",
              "      <td>146</td>\n",
              "      <td>0</td>\n",
              "      <td>0</td>\n",
              "      <td>0</td>\n",
              "      <td>0</td>\n",
              "      <td>...</td>\n",
              "      <td>254</td>\n",
              "      <td>1.0</td>\n",
              "      <td>0.01</td>\n",
              "      <td>0.01</td>\n",
              "      <td>0.0</td>\n",
              "      <td>0.0</td>\n",
              "      <td>0.0</td>\n",
              "      <td>0.0</td>\n",
              "      <td>0.0</td>\n",
              "      <td>snmpgetattack.</td>\n",
              "    </tr>\n",
              "  </tbody>\n",
              "</table>\n",
              "<p>5 rows × 42 columns</p>\n",
              "</div>\n",
              "      <button class=\"colab-df-convert\" onclick=\"convertToInteractive('df-c17d5271-d45b-4e3d-a405-13704c425639')\"\n",
              "              title=\"Convert this dataframe to an interactive table.\"\n",
              "              style=\"display:none;\">\n",
              "        \n",
              "  <svg xmlns=\"http://www.w3.org/2000/svg\" height=\"24px\"viewBox=\"0 0 24 24\"\n",
              "       width=\"24px\">\n",
              "    <path d=\"M0 0h24v24H0V0z\" fill=\"none\"/>\n",
              "    <path d=\"M18.56 5.44l.94 2.06.94-2.06 2.06-.94-2.06-.94-.94-2.06-.94 2.06-2.06.94zm-11 1L8.5 8.5l.94-2.06 2.06-.94-2.06-.94L8.5 2.5l-.94 2.06-2.06.94zm10 10l.94 2.06.94-2.06 2.06-.94-2.06-.94-.94-2.06-.94 2.06-2.06.94z\"/><path d=\"M17.41 7.96l-1.37-1.37c-.4-.4-.92-.59-1.43-.59-.52 0-1.04.2-1.43.59L10.3 9.45l-7.72 7.72c-.78.78-.78 2.05 0 2.83L4 21.41c.39.39.9.59 1.41.59.51 0 1.02-.2 1.41-.59l7.78-7.78 2.81-2.81c.8-.78.8-2.07 0-2.86zM5.41 20L4 18.59l7.72-7.72 1.47 1.35L5.41 20z\"/>\n",
              "  </svg>\n",
              "      </button>\n",
              "      \n",
              "  <style>\n",
              "    .colab-df-container {\n",
              "      display:flex;\n",
              "      flex-wrap:wrap;\n",
              "      gap: 12px;\n",
              "    }\n",
              "\n",
              "    .colab-df-convert {\n",
              "      background-color: #E8F0FE;\n",
              "      border: none;\n",
              "      border-radius: 50%;\n",
              "      cursor: pointer;\n",
              "      display: none;\n",
              "      fill: #1967D2;\n",
              "      height: 32px;\n",
              "      padding: 0 0 0 0;\n",
              "      width: 32px;\n",
              "    }\n",
              "\n",
              "    .colab-df-convert:hover {\n",
              "      background-color: #E2EBFA;\n",
              "      box-shadow: 0px 1px 2px rgba(60, 64, 67, 0.3), 0px 1px 3px 1px rgba(60, 64, 67, 0.15);\n",
              "      fill: #174EA6;\n",
              "    }\n",
              "\n",
              "    [theme=dark] .colab-df-convert {\n",
              "      background-color: #3B4455;\n",
              "      fill: #D2E3FC;\n",
              "    }\n",
              "\n",
              "    [theme=dark] .colab-df-convert:hover {\n",
              "      background-color: #434B5C;\n",
              "      box-shadow: 0px 1px 3px 1px rgba(0, 0, 0, 0.15);\n",
              "      filter: drop-shadow(0px 1px 2px rgba(0, 0, 0, 0.3));\n",
              "      fill: #FFFFFF;\n",
              "    }\n",
              "  </style>\n",
              "\n",
              "      <script>\n",
              "        const buttonEl =\n",
              "          document.querySelector('#df-c17d5271-d45b-4e3d-a405-13704c425639 button.colab-df-convert');\n",
              "        buttonEl.style.display =\n",
              "          google.colab.kernel.accessAllowed ? 'block' : 'none';\n",
              "\n",
              "        async function convertToInteractive(key) {\n",
              "          const element = document.querySelector('#df-c17d5271-d45b-4e3d-a405-13704c425639');\n",
              "          const dataTable =\n",
              "            await google.colab.kernel.invokeFunction('convertToInteractive',\n",
              "                                                     [key], {});\n",
              "          if (!dataTable) return;\n",
              "\n",
              "          const docLinkHtml = 'Like what you see? Visit the ' +\n",
              "            '<a target=\"_blank\" href=https://colab.research.google.com/notebooks/data_table.ipynb>data table notebook</a>'\n",
              "            + ' to learn more about interactive tables.';\n",
              "          element.innerHTML = '';\n",
              "          dataTable['output_type'] = 'display_data';\n",
              "          await google.colab.output.renderOutput(dataTable, element);\n",
              "          const docLink = document.createElement('div');\n",
              "          docLink.innerHTML = docLinkHtml;\n",
              "          element.appendChild(docLink);\n",
              "        }\n",
              "      </script>\n",
              "    </div>\n",
              "  </div>\n",
              "  "
            ]
          },
          "metadata": {},
          "execution_count": 47
        }
      ]
    },
    {
      "cell_type": "code",
      "source": [
        "print('The no of data points are:',data.shape[0])\n",
        "print('='*40)\n",
        "print('The no of features are:',data.shape[1])\n",
        "print('='*40)\n",
        "print('Some of the features are:',features[:10])"
      ],
      "metadata": {
        "colab": {
          "base_uri": "https://localhost:8080/"
        },
        "id": "r22f5cDMe6Z2",
        "outputId": "b8d8dcf2-0169-4410-c7b8-be97dd92c0b6"
      },
      "execution_count": null,
      "outputs": [
        {
          "output_type": "stream",
          "name": "stdout",
          "text": [
            "The no of data points are: 311029\n",
            "========================================\n",
            "The no of features are: 42\n",
            "========================================\n",
            "Some of the features are: ['duration', 'protocol_type', 'service', 'flag', 'src_bytes', 'dst_bytes', 'land', 'wrong_fragment', 'urgent', 'hot']\n"
          ]
        }
      ]
    },
    {
      "cell_type": "code",
      "source": [
        "output = data['intrusion_type'].values\n",
        "labels = set(output)"
      ],
      "metadata": {
        "id": "bxmgkFqZe_HV"
      },
      "execution_count": null,
      "outputs": []
    },
    {
      "cell_type": "code",
      "source": [
        "print('The different type of output labels are:',labels)\n",
        "print('='*100)\n",
        "print('No. of different output labels are:', len(labels))"
      ],
      "metadata": {
        "colab": {
          "base_uri": "https://localhost:8080/"
        },
        "id": "LYwDL_0JfEtf",
        "outputId": "a583f592-8d04-40e8-ef0d-b9c8a0d261df"
      },
      "execution_count": null,
      "outputs": [
        {
          "output_type": "stream",
          "name": "stdout",
          "text": [
            "The different type of output labels are: {'xlock.', 'xsnoop.', 'loadmodule.', 'apache2.', 'land.', 'processtable.', 'mailbomb.', 'snmpgetattack.', 'satan.', 'multihop.', 'perl.', 'guess_passwd.', 'buffer_overflow.', 'xterm.', 'imap.', 'ps.', 'mscan.', 'udpstorm.', 'smurf.', 'snmpguess.', 'normal.', 'sqlattack.', 'portsweep.', 'neptune.', 'sendmail.', 'saint.', 'pod.', 'nmap.', 'phf.', 'httptunnel.', 'back.', 'teardrop.', 'named.', 'warezmaster.', 'ipsweep.', 'ftp_write.', 'rootkit.', 'worm.'}\n",
            "====================================================================================================\n",
            "No. of different output labels are: 38\n"
          ]
        }
      ]
    },
    {
      "cell_type": "markdown",
      "source": [
        "\n",
        "*Data Cleaning:-*\n",
        "\n",
        "Checking for NULL values:-\n"
      ],
      "metadata": {
        "id": "UkcoE_kIfSJZ"
      }
    },
    {
      "cell_type": "code",
      "source": [
        "print('Null values in the dataset are: ',len(data[data.isnull().any(1)]))"
      ],
      "metadata": {
        "colab": {
          "base_uri": "https://localhost:8080/"
        },
        "id": "UFZGu6dHfLec",
        "outputId": "89bf95a9-1403-4c65-f017-a917e56a24d4"
      },
      "execution_count": null,
      "outputs": [
        {
          "output_type": "stream",
          "name": "stdout",
          "text": [
            "Null values in the dataset are:  0\n"
          ]
        }
      ]
    },
    {
      "cell_type": "markdown",
      "source": [
        "Checking for DUPLICATE values:-"
      ],
      "metadata": {
        "id": "3x2-mG9XhYqq"
      }
    },
    {
      "cell_type": "code",
      "source": [
        "duplicateRowsDF = data[data.duplicated()]\n",
        "duplicateRowsDF.head(5)"
      ],
      "metadata": {
        "id": "pZxfpI-vhL4S",
        "colab": {
          "base_uri": "https://localhost:8080/",
          "height": 299
        },
        "outputId": "b0658741-26ae-45ed-c381-3d5066cdb788"
      },
      "execution_count": null,
      "outputs": [
        {
          "output_type": "execute_result",
          "data": {
            "text/plain": [
              "    duration protocol_type  service flag  src_bytes  dst_bytes  land  \\\n",
              "1          0           udp  private   SF        105        146     0   \n",
              "2          0           udp  private   SF        105        146     0   \n",
              "8          0           udp  private   SF        105        146     0   \n",
              "10         0           udp  private   SF        105        146     0   \n",
              "18         0           udp  private   SF        105        146     0   \n",
              "\n",
              "    wrong_fragment  urgent  hot  ...  dst_host_srv_count  \\\n",
              "1                0       0    0  ...                 254   \n",
              "2                0       0    0  ...                 254   \n",
              "8                0       0    0  ...                 254   \n",
              "10               0       0    0  ...                 254   \n",
              "18               0       0    0  ...                 254   \n",
              "\n",
              "    dst_host_same_srv_rate  dst_host_diff_srv_rate  \\\n",
              "1                      1.0                    0.01   \n",
              "2                      1.0                    0.01   \n",
              "8                      1.0                    0.01   \n",
              "10                     1.0                    0.01   \n",
              "18                     1.0                    0.01   \n",
              "\n",
              "    dst_host_same_src_port_rate  dst_host_srv_diff_host_rate  \\\n",
              "1                          0.00                          0.0   \n",
              "2                          0.00                          0.0   \n",
              "8                          0.00                          0.0   \n",
              "10                         0.00                          0.0   \n",
              "18                         0.01                          0.0   \n",
              "\n",
              "    dst_host_serror_rate  dst_host_srv_serror_rate  dst_host_rerror_rate  \\\n",
              "1                    0.0                       0.0                   0.0   \n",
              "2                    0.0                       0.0                   0.0   \n",
              "8                    0.0                       0.0                   0.0   \n",
              "10                   0.0                       0.0                   0.0   \n",
              "18                   0.0                       0.0                   0.0   \n",
              "\n",
              "    dst_host_srv_rerror_rate  intrusion_type  \n",
              "1                        0.0         normal.  \n",
              "2                        0.0         normal.  \n",
              "8                        0.0  snmpgetattack.  \n",
              "10                       0.0  snmpgetattack.  \n",
              "18                       0.0  snmpgetattack.  \n",
              "\n",
              "[5 rows x 42 columns]"
            ],
            "text/html": [
              "\n",
              "  <div id=\"df-e6b2ad4f-794b-4f15-b7fc-30700d5902db\">\n",
              "    <div class=\"colab-df-container\">\n",
              "      <div>\n",
              "<style scoped>\n",
              "    .dataframe tbody tr th:only-of-type {\n",
              "        vertical-align: middle;\n",
              "    }\n",
              "\n",
              "    .dataframe tbody tr th {\n",
              "        vertical-align: top;\n",
              "    }\n",
              "\n",
              "    .dataframe thead th {\n",
              "        text-align: right;\n",
              "    }\n",
              "</style>\n",
              "<table border=\"1\" class=\"dataframe\">\n",
              "  <thead>\n",
              "    <tr style=\"text-align: right;\">\n",
              "      <th></th>\n",
              "      <th>duration</th>\n",
              "      <th>protocol_type</th>\n",
              "      <th>service</th>\n",
              "      <th>flag</th>\n",
              "      <th>src_bytes</th>\n",
              "      <th>dst_bytes</th>\n",
              "      <th>land</th>\n",
              "      <th>wrong_fragment</th>\n",
              "      <th>urgent</th>\n",
              "      <th>hot</th>\n",
              "      <th>...</th>\n",
              "      <th>dst_host_srv_count</th>\n",
              "      <th>dst_host_same_srv_rate</th>\n",
              "      <th>dst_host_diff_srv_rate</th>\n",
              "      <th>dst_host_same_src_port_rate</th>\n",
              "      <th>dst_host_srv_diff_host_rate</th>\n",
              "      <th>dst_host_serror_rate</th>\n",
              "      <th>dst_host_srv_serror_rate</th>\n",
              "      <th>dst_host_rerror_rate</th>\n",
              "      <th>dst_host_srv_rerror_rate</th>\n",
              "      <th>intrusion_type</th>\n",
              "    </tr>\n",
              "  </thead>\n",
              "  <tbody>\n",
              "    <tr>\n",
              "      <th>1</th>\n",
              "      <td>0</td>\n",
              "      <td>udp</td>\n",
              "      <td>private</td>\n",
              "      <td>SF</td>\n",
              "      <td>105</td>\n",
              "      <td>146</td>\n",
              "      <td>0</td>\n",
              "      <td>0</td>\n",
              "      <td>0</td>\n",
              "      <td>0</td>\n",
              "      <td>...</td>\n",
              "      <td>254</td>\n",
              "      <td>1.0</td>\n",
              "      <td>0.01</td>\n",
              "      <td>0.00</td>\n",
              "      <td>0.0</td>\n",
              "      <td>0.0</td>\n",
              "      <td>0.0</td>\n",
              "      <td>0.0</td>\n",
              "      <td>0.0</td>\n",
              "      <td>normal.</td>\n",
              "    </tr>\n",
              "    <tr>\n",
              "      <th>2</th>\n",
              "      <td>0</td>\n",
              "      <td>udp</td>\n",
              "      <td>private</td>\n",
              "      <td>SF</td>\n",
              "      <td>105</td>\n",
              "      <td>146</td>\n",
              "      <td>0</td>\n",
              "      <td>0</td>\n",
              "      <td>0</td>\n",
              "      <td>0</td>\n",
              "      <td>...</td>\n",
              "      <td>254</td>\n",
              "      <td>1.0</td>\n",
              "      <td>0.01</td>\n",
              "      <td>0.00</td>\n",
              "      <td>0.0</td>\n",
              "      <td>0.0</td>\n",
              "      <td>0.0</td>\n",
              "      <td>0.0</td>\n",
              "      <td>0.0</td>\n",
              "      <td>normal.</td>\n",
              "    </tr>\n",
              "    <tr>\n",
              "      <th>8</th>\n",
              "      <td>0</td>\n",
              "      <td>udp</td>\n",
              "      <td>private</td>\n",
              "      <td>SF</td>\n",
              "      <td>105</td>\n",
              "      <td>146</td>\n",
              "      <td>0</td>\n",
              "      <td>0</td>\n",
              "      <td>0</td>\n",
              "      <td>0</td>\n",
              "      <td>...</td>\n",
              "      <td>254</td>\n",
              "      <td>1.0</td>\n",
              "      <td>0.01</td>\n",
              "      <td>0.00</td>\n",
              "      <td>0.0</td>\n",
              "      <td>0.0</td>\n",
              "      <td>0.0</td>\n",
              "      <td>0.0</td>\n",
              "      <td>0.0</td>\n",
              "      <td>snmpgetattack.</td>\n",
              "    </tr>\n",
              "    <tr>\n",
              "      <th>10</th>\n",
              "      <td>0</td>\n",
              "      <td>udp</td>\n",
              "      <td>private</td>\n",
              "      <td>SF</td>\n",
              "      <td>105</td>\n",
              "      <td>146</td>\n",
              "      <td>0</td>\n",
              "      <td>0</td>\n",
              "      <td>0</td>\n",
              "      <td>0</td>\n",
              "      <td>...</td>\n",
              "      <td>254</td>\n",
              "      <td>1.0</td>\n",
              "      <td>0.01</td>\n",
              "      <td>0.00</td>\n",
              "      <td>0.0</td>\n",
              "      <td>0.0</td>\n",
              "      <td>0.0</td>\n",
              "      <td>0.0</td>\n",
              "      <td>0.0</td>\n",
              "      <td>snmpgetattack.</td>\n",
              "    </tr>\n",
              "    <tr>\n",
              "      <th>18</th>\n",
              "      <td>0</td>\n",
              "      <td>udp</td>\n",
              "      <td>private</td>\n",
              "      <td>SF</td>\n",
              "      <td>105</td>\n",
              "      <td>146</td>\n",
              "      <td>0</td>\n",
              "      <td>0</td>\n",
              "      <td>0</td>\n",
              "      <td>0</td>\n",
              "      <td>...</td>\n",
              "      <td>254</td>\n",
              "      <td>1.0</td>\n",
              "      <td>0.01</td>\n",
              "      <td>0.01</td>\n",
              "      <td>0.0</td>\n",
              "      <td>0.0</td>\n",
              "      <td>0.0</td>\n",
              "      <td>0.0</td>\n",
              "      <td>0.0</td>\n",
              "      <td>snmpgetattack.</td>\n",
              "    </tr>\n",
              "  </tbody>\n",
              "</table>\n",
              "<p>5 rows × 42 columns</p>\n",
              "</div>\n",
              "      <button class=\"colab-df-convert\" onclick=\"convertToInteractive('df-e6b2ad4f-794b-4f15-b7fc-30700d5902db')\"\n",
              "              title=\"Convert this dataframe to an interactive table.\"\n",
              "              style=\"display:none;\">\n",
              "        \n",
              "  <svg xmlns=\"http://www.w3.org/2000/svg\" height=\"24px\"viewBox=\"0 0 24 24\"\n",
              "       width=\"24px\">\n",
              "    <path d=\"M0 0h24v24H0V0z\" fill=\"none\"/>\n",
              "    <path d=\"M18.56 5.44l.94 2.06.94-2.06 2.06-.94-2.06-.94-.94-2.06-.94 2.06-2.06.94zm-11 1L8.5 8.5l.94-2.06 2.06-.94-2.06-.94L8.5 2.5l-.94 2.06-2.06.94zm10 10l.94 2.06.94-2.06 2.06-.94-2.06-.94-.94-2.06-.94 2.06-2.06.94z\"/><path d=\"M17.41 7.96l-1.37-1.37c-.4-.4-.92-.59-1.43-.59-.52 0-1.04.2-1.43.59L10.3 9.45l-7.72 7.72c-.78.78-.78 2.05 0 2.83L4 21.41c.39.39.9.59 1.41.59.51 0 1.02-.2 1.41-.59l7.78-7.78 2.81-2.81c.8-.78.8-2.07 0-2.86zM5.41 20L4 18.59l7.72-7.72 1.47 1.35L5.41 20z\"/>\n",
              "  </svg>\n",
              "      </button>\n",
              "      \n",
              "  <style>\n",
              "    .colab-df-container {\n",
              "      display:flex;\n",
              "      flex-wrap:wrap;\n",
              "      gap: 12px;\n",
              "    }\n",
              "\n",
              "    .colab-df-convert {\n",
              "      background-color: #E8F0FE;\n",
              "      border: none;\n",
              "      border-radius: 50%;\n",
              "      cursor: pointer;\n",
              "      display: none;\n",
              "      fill: #1967D2;\n",
              "      height: 32px;\n",
              "      padding: 0 0 0 0;\n",
              "      width: 32px;\n",
              "    }\n",
              "\n",
              "    .colab-df-convert:hover {\n",
              "      background-color: #E2EBFA;\n",
              "      box-shadow: 0px 1px 2px rgba(60, 64, 67, 0.3), 0px 1px 3px 1px rgba(60, 64, 67, 0.15);\n",
              "      fill: #174EA6;\n",
              "    }\n",
              "\n",
              "    [theme=dark] .colab-df-convert {\n",
              "      background-color: #3B4455;\n",
              "      fill: #D2E3FC;\n",
              "    }\n",
              "\n",
              "    [theme=dark] .colab-df-convert:hover {\n",
              "      background-color: #434B5C;\n",
              "      box-shadow: 0px 1px 3px 1px rgba(0, 0, 0, 0.15);\n",
              "      filter: drop-shadow(0px 1px 2px rgba(0, 0, 0, 0.3));\n",
              "      fill: #FFFFFF;\n",
              "    }\n",
              "  </style>\n",
              "\n",
              "      <script>\n",
              "        const buttonEl =\n",
              "          document.querySelector('#df-e6b2ad4f-794b-4f15-b7fc-30700d5902db button.colab-df-convert');\n",
              "        buttonEl.style.display =\n",
              "          google.colab.kernel.accessAllowed ? 'block' : 'none';\n",
              "\n",
              "        async function convertToInteractive(key) {\n",
              "          const element = document.querySelector('#df-e6b2ad4f-794b-4f15-b7fc-30700d5902db');\n",
              "          const dataTable =\n",
              "            await google.colab.kernel.invokeFunction('convertToInteractive',\n",
              "                                                     [key], {});\n",
              "          if (!dataTable) return;\n",
              "\n",
              "          const docLinkHtml = 'Like what you see? Visit the ' +\n",
              "            '<a target=\"_blank\" href=https://colab.research.google.com/notebooks/data_table.ipynb>data table notebook</a>'\n",
              "            + ' to learn more about interactive tables.';\n",
              "          element.innerHTML = '';\n",
              "          dataTable['output_type'] = 'display_data';\n",
              "          await google.colab.output.renderOutput(dataTable, element);\n",
              "          const docLink = document.createElement('div');\n",
              "          docLink.innerHTML = docLinkHtml;\n",
              "          element.appendChild(docLink);\n",
              "        }\n",
              "      </script>\n",
              "    </div>\n",
              "  </div>\n",
              "  "
            ]
          },
          "metadata": {},
          "execution_count": 52
        }
      ]
    },
    {
      "cell_type": "code",
      "source": [
        "data.drop_duplicates(subset=features, keep='first', inplace=True)\n",
        "data.shape"
      ],
      "metadata": {
        "colab": {
          "base_uri": "https://localhost:8080/"
        },
        "id": "sZmN5o5aiOn9",
        "outputId": "b4e58c80-c5e4-491a-cf7d-8bb77f6a2e6c"
      },
      "execution_count": null,
      "outputs": [
        {
          "output_type": "execute_result",
          "data": {
            "text/plain": [
              "(77291, 42)"
            ]
          },
          "metadata": {},
          "execution_count": 53
        }
      ]
    },
    {
      "cell_type": "code",
      "source": [
        "data.to_pickle('data.pkl')\n",
        "data = pd.read_pickle('data.pkl')"
      ],
      "metadata": {
        "id": "n4uW-FlqiT7T"
      },
      "execution_count": null,
      "outputs": []
    },
    {
      "cell_type": "markdown",
      "source": [
        "\n",
        "Exploratory Data Analysis:-\n",
        "Distribution of categories in class label:-\n"
      ],
      "metadata": {
        "id": "vipZe7_miiqb"
      }
    },
    {
      "cell_type": "code",
      "source": [
        "print('Label distribution dataset, intrusion_type:')\n",
        "print(data['intrusion_type'].value_counts())"
      ],
      "metadata": {
        "colab": {
          "base_uri": "https://localhost:8080/"
        },
        "id": "c2RbRzLV-dnJ",
        "outputId": "67ef9ad8-4d19-4f6d-9f3c-89f9a650cdf7"
      },
      "execution_count": null,
      "outputs": [
        {
          "output_type": "stream",
          "name": "stdout",
          "text": [
            "Label distribution dataset, intrusion_type:\n",
            "normal.             47913\n",
            "neptune.            20332\n",
            "guess_passwd.        1302\n",
            "mscan.               1049\n",
            "warezmaster.         1002\n",
            "smurf.                936\n",
            "satan.                860\n",
            "apache2.              794\n",
            "processtable.         744\n",
            "back.                 386\n",
            "saint.                364\n",
            "snmpguess.            359\n",
            "mailbomb.             308\n",
            "snmpgetattack.        179\n",
            "portsweep.            174\n",
            "ipsweep.              155\n",
            "httptunnel.           145\n",
            "nmap.                  80\n",
            "pod.                   45\n",
            "buffer_overflow.       22\n",
            "multihop.              18\n",
            "named.                 17\n",
            "ps.                    16\n",
            "sendmail.              15\n",
            "rootkit.               13\n",
            "xterm.                 13\n",
            "teardrop.              12\n",
            "xlock.                  9\n",
            "land.                   9\n",
            "xsnoop.                 4\n",
            "ftp_write.              3\n",
            "loadmodule.             2\n",
            "perl.                   2\n",
            "udpstorm.               2\n",
            "worm.                   2\n",
            "phf.                    2\n",
            "sqlattack.              2\n",
            "imap.                   1\n",
            "Name: intrusion_type, dtype: int64\n"
          ]
        }
      ]
    },
    {
      "cell_type": "code",
      "source": [
        "plt.figure(figsize=(20,15))\n",
        "class_distribution = data['intrusion_type'].value_counts()\n",
        "class_distribution.plot(kind='bar')\n",
        "plt.xlabel('Class')\n",
        "plt.ylabel('Data points per Class')\n",
        "plt.title('Distribution of yi in train data')\n",
        "plt.grid()\n",
        "plt.show()\n",
        "\n",
        "\n",
        "sorted_yi = np.argsort(-class_distribution.values)\n",
        "for i in sorted_yi:\n",
        "    print('Number of data points in class', i+1, ':',class_distribution.values[i], '(', np.round((class_distribution.values[i]/data.shape[0]*100), 3), '%)')\n",
        "\n",
        "    "
      ],
      "metadata": {
        "colab": {
          "base_uri": "https://localhost:8080/",
          "height": 1000
        },
        "id": "2QRqB3ZvijoW",
        "outputId": "b3c5a53b-4a3c-4f58-976e-dfef05bd5aa3"
      },
      "execution_count": null,
      "outputs": [
        {
          "output_type": "display_data",
          "data": {
            "text/plain": [
              "<Figure size 1440x1080 with 1 Axes>"
            ],
            "image/png": "[encoded data removed]"
          },
          "metadata": {
            "needs_background": "light"
          }
        },
        {
          "output_type": "stream",
          "name": "stdout",
          "text": [
            "Number of data points in class 1 : 47913 ( 61.99 %)\n",
            "Number of data points in class 2 : 20332 ( 26.306 %)\n",
            "Number of data points in class 3 : 1302 ( 1.685 %)\n",
            "Number of data points in class 4 : 1049 ( 1.357 %)\n",
            "Number of data points in class 5 : 1002 ( 1.296 %)\n",
            "Number of data points in class 6 : 936 ( 1.211 %)\n",
            "Number of data points in class 7 : 860 ( 1.113 %)\n",
            "Number of data points in class 8 : 794 ( 1.027 %)\n",
            "Number of data points in class 9 : 744 ( 0.963 %)\n",
            "Number of data points in class 10 : 386 ( 0.499 %)\n",
            "Number of data points in class 11 : 364 ( 0.471 %)\n",
            "Number of data points in class 12 : 359 ( 0.464 %)\n",
            "Number of data points in class 13 : 308 ( 0.398 %)\n",
            "Number of data points in class 14 : 179 ( 0.232 %)\n",
            "Number of data points in class 15 : 174 ( 0.225 %)\n",
            "Number of data points in class 16 : 155 ( 0.201 %)\n",
            "Number of data points in class 17 : 145 ( 0.188 %)\n",
            "Number of data points in class 18 : 80 ( 0.104 %)\n",
            "Number of data points in class 19 : 45 ( 0.058 %)\n",
            "Number of data points in class 20 : 22 ( 0.028 %)\n",
            "Number of data points in class 21 : 18 ( 0.023 %)\n",
            "Number of data points in class 22 : 17 ( 0.022 %)\n",
            "Number of data points in class 23 : 16 ( 0.021 %)\n",
            "Number of data points in class 24 : 15 ( 0.019 %)\n",
            "Number of data points in class 25 : 13 ( 0.017 %)\n",
            "Number of data points in class 26 : 13 ( 0.017 %)\n",
            "Number of data points in class 27 : 12 ( 0.016 %)\n",
            "Number of data points in class 29 : 9 ( 0.012 %)\n",
            "Number of data points in class 28 : 9 ( 0.012 %)\n",
            "Number of data points in class 30 : 4 ( 0.005 %)\n",
            "Number of data points in class 31 : 3 ( 0.004 %)\n",
            "Number of data points in class 37 : 2 ( 0.003 %)\n",
            "Number of data points in class 32 : 2 ( 0.003 %)\n",
            "Number of data points in class 33 : 2 ( 0.003 %)\n",
            "Number of data points in class 34 : 2 ( 0.003 %)\n",
            "Number of data points in class 35 : 2 ( 0.003 %)\n",
            "Number of data points in class 36 : 2 ( 0.003 %)\n",
            "Number of data points in class 38 : 1 ( 0.001 %)\n"
          ]
        }
      ]
    },
    {
      "cell_type": "markdown",
      "source": [
        "\n",
        "Performance metrics for the problem:-\n",
        "\n",
        "    As the dataset is highly imbalanced, we will need to build a model which should be able to classify the INTRUSION categories accurately.\n",
        "\n",
        "    We will use the CONFUSION MATRIX as that will help us to determine how well the data points belonging to each of the 23 classes are classified.\n",
        "\n",
        "    Along with the confusion matrix, we will also calculate precision, recall and weighted f1-score to determine the best model.\n",
        "\n",
        "    Although not preferred for imbalanced datasets, but we will also display the accuracy score that will give us an estimate of the total no. of correctly classified points.\n",
        "\n",
        "    Some important evaluation scores that can be added for this problem are the TPR (True Positive rate) and FPR (False Positive Rate) scores.\n",
        "\n",
        "For this problem, we want our FPR to be as low as possible. This is because, a \"Normal\" connection getting dropped beacuse of getting misclassified as a \"Bad\" connection is less severe compared to a \"Bad\" connection getting misclassified as a \"Normal\" connection, which may result in a security threat\n"
      ],
      "metadata": {
        "id": "I7Z9etlLi7G3"
      }
    },
    {
      "cell_type": "markdown",
      "source": [
        "\n",
        "(I) MultiClass Classification Problem :-\n",
        "Univariate Analysis:-\n",
        "1. Duration:-\n"
      ],
      "metadata": {
        "id": "16yPGCCzjA9D"
      }
    },
    {
      "cell_type": "code",
      "source": [
        "import seaborn as sns"
      ],
      "metadata": {
        "id": "lUlDI5Rdi9Kz"
      },
      "execution_count": null,
      "outputs": []
    },
    {
      "cell_type": "code",
      "source": [
        "plt.figure(figsize=(20,15))\n",
        "sns.violinplot(x=\"intrusion_type\", y=\"src_bytes\", data=data)\n",
        "plt.xticks(rotation=90)"
      ],
      "metadata": {
        "colab": {
          "base_uri": "https://localhost:8080/",
          "height": 1000
        },
        "id": "D519swEgjvbo",
        "outputId": "40d7db11-ac3f-4591-e72d-12dbbfb0595a"
      },
      "execution_count": null,
      "outputs": [
        {
          "output_type": "execute_result",
          "data": {
            "text/plain": [
              "(array([ 0,  1,  2,  3,  4,  5,  6,  7,  8,  9, 10, 11, 12, 13, 14, 15, 16,\n",
              "        17, 18, 19, 20, 21, 22, 23, 24, 25, 26, 27, 28, 29, 30, 31, 32, 33,\n",
              "        34, 35, 36, 37]), <a list of 38 Text major ticklabel objects>)"
            ]
          },
          "metadata": {},
          "execution_count": 58
        },
        {
          "output_type": "display_data",
          "data": {
            "text/plain": [
              "<Figure size 1440x1080 with 1 Axes>"
            ],
            "image/png": "[encoded data removed]"
          },
          "metadata": {
            "needs_background": "light"
          }
        }
      ]
    },
    {
      "cell_type": "markdown",
      "source": [
        "Feature Selection using genetic algorithm"
      ],
      "metadata": {
        "id": "mt5SrgtJB046"
      }
    },
    {
      "cell_type": "markdown",
      "source": [
        "Train Test Split:- "
      ],
      "metadata": {
        "id": "SGk36klckJ7c"
      }
    },
    {
      "cell_type": "code",
      "source": [
        "from sklearn.model_selection import train_test_split\n",
        "X_train, X_test, Y_train, Y_test = train_test_split(data.drop('intrusion_type', axis=1), data['intrusion_type'], test_size=0.30)"
      ],
      "metadata": {
        "id": "NFRRqWnXkH1d"
      },
      "execution_count": null,
      "outputs": []
    },
    {
      "cell_type": "code",
      "source": [
        "print('Train data')\n",
        "print(X_train.shape)\n",
        "print(Y_train.shape)\n",
        "print('='*20)\n",
        "print('Test data')\n",
        "print(X_test.shape)\n",
        "print(Y_test.shape)"
      ],
      "metadata": {
        "colab": {
          "base_uri": "https://localhost:8080/"
        },
        "id": "JSxRhoHLlAmU",
        "outputId": "981438a8-3984-4310-f9fd-d96215412c4d"
      },
      "execution_count": null,
      "outputs": [
        {
          "output_type": "stream",
          "name": "stdout",
          "text": [
            "Train data\n",
            "(54103, 41)\n",
            "(54103,)\n",
            "====================\n",
            "Test data\n",
            "(23188, 41)\n",
            "(23188,)\n"
          ]
        }
      ]
    },
    {
      "cell_type": "markdown",
      "source": [
        "\n",
        "Vectorizing Categorical features using one-hot encoding:-\n",
        "\n",
        "Categorical features in our dataset are:- 'protocol_type', 'service', and 'flag'.\n"
      ],
      "metadata": {
        "id": "mcbpgq0FmDru"
      }
    },
    {
      "cell_type": "markdown",
      "source": [
        "Protocol_type:- "
      ],
      "metadata": {
        "id": "uSa1s5M-mIQ_"
      }
    },
    {
      "cell_type": "code",
      "source": [
        "protocol = list(X_train['protocol_type'].values)\n",
        "protocol = list(set(protocol))\n",
        "print('Protocol types are:', protocol)"
      ],
      "metadata": {
        "colab": {
          "base_uri": "https://localhost:8080/"
        },
        "id": "2u2bsVqgl-7d",
        "outputId": "a2b7bf34-8fff-4cf0-e12e-98196a1de9f0"
      },
      "execution_count": null,
      "outputs": [
        {
          "output_type": "stream",
          "name": "stdout",
          "text": [
            "Protocol types are: ['tcp', 'udp', 'icmp']\n"
          ]
        }
      ]
    },
    {
      "cell_type": "code",
      "source": [
        "#Drawing a pie chart to classify protocols of connections\n",
        "colors = [\"#E13F29\", \"#D69A80\", \"#D63B59\"]\n",
        "labels = ['icmp', 'tcp', 'udp']\n",
        "sizes = [282342,186237,20156]\n",
        "explode = (0.05, 0.05, 0.05)  \n",
        "\n",
        "plt.pie(sizes, explode =explode ,labels=labels, autopct='%1.1f%%',colors=colors,shadow=False, startangle=90)\n",
        "plt.axis('equal')\n",
        "plt.title('Distribution of protocol type\\n')\n",
        "plt.tight_layout()\n",
        "fig = plt.gcf()\n",
        "fig.set_size_inches(4,4)\n",
        "plt.show()"
      ],
      "metadata": {
        "colab": {
          "base_uri": "https://localhost:8080/",
          "height": 297
        },
        "id": "vXYn2J6a-5Vx",
        "outputId": "9671f3bb-06f5-413e-ff9f-f2fc77c10304"
      },
      "execution_count": null,
      "outputs": [
        {
          "output_type": "display_data",
          "data": {
            "text/plain": [
              "<Figure size 288x288 with 1 Axes>"
            ],
            "image/png": "[encoded data removed]"
          },
          "metadata": {}
        }
      ]
    },
    {
      "cell_type": "code",
      "source": [
        "from sklearn.feature_extraction.text import CountVectorizer\n",
        "one_hot = CountVectorizer(vocabulary=protocol, binary=True)\n",
        "train_protocol = one_hot.fit_transform(X_train['protocol_type'].values)\n",
        "test_protocol = one_hot.transform(X_test['protocol_type'].values)"
      ],
      "metadata": {
        "id": "tg8iW7UxmNOe"
      },
      "execution_count": null,
      "outputs": []
    },
    {
      "cell_type": "code",
      "source": [
        "print(train_protocol[1].toarray())\n",
        "train_protocol.shape"
      ],
      "metadata": {
        "colab": {
          "base_uri": "https://localhost:8080/"
        },
        "id": "3ch0BWGKmSlb",
        "outputId": "428b3ae2-a05b-42e1-f394-5a50b4081650"
      },
      "execution_count": null,
      "outputs": [
        {
          "output_type": "stream",
          "name": "stdout",
          "text": [
            "[[1 0 0]]\n"
          ]
        },
        {
          "output_type": "execute_result",
          "data": {
            "text/plain": [
              "(54103, 3)"
            ]
          },
          "metadata": {},
          "execution_count": 64
        }
      ]
    },
    {
      "cell_type": "markdown",
      "source": [
        "Service:- "
      ],
      "metadata": {
        "id": "Vyj_sFf3mW8y"
      }
    },
    {
      "cell_type": "code",
      "source": [
        "service = list(X_train['service'].values)\n",
        "service = list(set(service))\n",
        "print('Service types are:\\n', service)"
      ],
      "metadata": {
        "colab": {
          "base_uri": "https://localhost:8080/"
        },
        "id": "1UUicP2smdYG",
        "outputId": "76adc811-34ca-43a0-9e55-e487f9ec4803"
      },
      "execution_count": null,
      "outputs": [
        {
          "output_type": "stream",
          "name": "stdout",
          "text": [
            "Service types are:\n",
            " ['netstat', 'iso_tsap', 'pop_3', 'netbios_dgm', 'imap4', 'urp_i', 'echo', 'bgp', 'finger', 'netbios_ssn', 'vmnet', 'nntp', 'efs', 'tim_i', 'domain', 'telnet', 'netbios_ns', 'ftp_data', 'private', 'Z39_50', 'uucp', 'X11', 'ldap', 'uucp_path', 'ecr_i', 'shell', 'printer', 'supdup', 'courier', 'link', 'icmp', 'login', 'discard', 'smtp', 'pm_dump', 'ftp', 'gopher', 'other', 'tftp_u', 'klogin', 'ctf', 'http_443', 'kshell', 'http', 'ntp_u', 'mtp', 'pop_2', 'sql_net', 'csnet_ns', 'ssh', 'whois', 'domain_u', 'auth', 'exec', 'remote_job', 'daytime', 'eco_i', 'time', 'hostnames', 'IRC', 'systat', 'nnsp', 'name', 'sunrpc', 'rje']\n"
          ]
        }
      ]
    },
    {
      "cell_type": "code",
      "source": [
        "#Drawing a bar graph to classify DOS attacks in connections\n",
        "objects = ('smurf', 'neptune', 'normal', 'back', 'teardrop', 'pod', 'land')\n",
        "y_pos = np.arange(len(objects))\n",
        "performance = [280790,107201,97277,2203,979,264,21]\n",
        "plt.bar(y_pos, performance, align='center', alpha=0.5)\n",
        "plt.xticks(y_pos, objects)\n",
        "plt.ylabel('No. of connections')\n",
        "plt.title('DOS attacks classification\\n')\n",
        "fig = plt.gcf()\n",
        "fig.set_size_inches(8,8)\n",
        "plt.show()"
      ],
      "metadata": {
        "colab": {
          "base_uri": "https://localhost:8080/",
          "height": 514
        },
        "id": "gOWPtFXg_LYk",
        "outputId": "14f7a5ea-f1b2-45d1-fd72-9e2486e521d6"
      },
      "execution_count": null,
      "outputs": [
        {
          "output_type": "display_data",
          "data": {
            "text/plain": [
              "<Figure size 576x576 with 1 Axes>"
            ],
            "image/png": "[encoded data removed]"
          },
          "metadata": {
            "needs_background": "light"
          }
        }
      ]
    },
    {
      "cell_type": "code",
      "source": [
        "from sklearn.feature_extraction.text import CountVectorizer\n",
        "one_hot = CountVectorizer(vocabulary=service, binary=True)\n",
        "train_service = one_hot.fit_transform(X_train['service'].values)\n",
        "test_service = one_hot.transform(X_test['service'].values)"
      ],
      "metadata": {
        "id": "-9ZE5bOumjfg"
      },
      "execution_count": null,
      "outputs": []
    },
    {
      "cell_type": "code",
      "source": [
        "print(train_service[100].toarray())"
      ],
      "metadata": {
        "colab": {
          "base_uri": "https://localhost:8080/"
        },
        "id": "NSCDaxDOmriB",
        "outputId": "3e97280e-c128-43ee-967c-5fbfbdef4d43"
      },
      "execution_count": null,
      "outputs": [
        {
          "output_type": "stream",
          "name": "stdout",
          "text": [
            "[[0 0 0 0 0 0 0 0 0 0 0 0 0 0 0 0 0 0 1 0 0 0 0 0 0 0 0 0 0 0 0 0 0 0 0 0\n",
            "  0 0 0 0 0 0 0 0 0 0 0 0 0 0 0 0 0 0 0 0 0 0 0 0 0 0 0 0 0]]\n"
          ]
        }
      ]
    },
    {
      "cell_type": "code",
      "source": [
        "train_service.shape"
      ],
      "metadata": {
        "colab": {
          "base_uri": "https://localhost:8080/"
        },
        "id": "seesbyIMm1Vj",
        "outputId": "d39a8b13-603b-4704-b348-45cd05cd57de"
      },
      "execution_count": null,
      "outputs": [
        {
          "output_type": "execute_result",
          "data": {
            "text/plain": [
              "(54103, 65)"
            ]
          },
          "metadata": {},
          "execution_count": 69
        }
      ]
    },
    {
      "cell_type": "markdown",
      "source": [
        "Flag:- "
      ],
      "metadata": {
        "id": "BLRmXxAem6hE"
      }
    },
    {
      "cell_type": "code",
      "source": [
        "flag = list(X_train['flag'].values)\n",
        "flag = list(set(flag))\n",
        "print('flag types are:', flag)"
      ],
      "metadata": {
        "colab": {
          "base_uri": "https://localhost:8080/"
        },
        "id": "6O-wuED-m8O7",
        "outputId": "9a41ff3b-410f-4983-93e6-fdc299aa33a3"
      },
      "execution_count": null,
      "outputs": [
        {
          "output_type": "stream",
          "name": "stdout",
          "text": [
            "flag types are: ['RSTR', 'SH', 'RSTO', 'S0', 'S3', 'S1', 'REJ', 'OTH', 'RSTOS0', 'S2', 'SF']\n"
          ]
        }
      ]
    },
    {
      "cell_type": "code",
      "source": [
        "from sklearn.feature_extraction.text import CountVectorizer\n",
        "one_hot = CountVectorizer(binary=True)\n",
        "one_hot.fit(X_train['flag'].values)\n",
        "train_flag = one_hot.transform(X_train['flag'].values)\n",
        "test_flag = one_hot.transform(X_test['flag'].values)"
      ],
      "metadata": {
        "id": "yNbTSlNvnOoi"
      },
      "execution_count": null,
      "outputs": []
    },
    {
      "cell_type": "code",
      "source": [
        "print(test_flag[3000].toarray())\n",
        "train_flag.shape"
      ],
      "metadata": {
        "colab": {
          "base_uri": "https://localhost:8080/"
        },
        "id": "1FwCCu_YnRnz",
        "outputId": "22ef6fb3-483c-4b73-a96d-63b627d13f82"
      },
      "execution_count": null,
      "outputs": [
        {
          "output_type": "stream",
          "name": "stdout",
          "text": [
            "[[0 0 0 0 0 0 0 0 0 1 0]]\n"
          ]
        },
        {
          "output_type": "execute_result",
          "data": {
            "text/plain": [
              "(54103, 11)"
            ]
          },
          "metadata": {},
          "execution_count": 72
        }
      ]
    },
    {
      "cell_type": "code",
      "source": [
        "X_train.drop(['protocol_type','service','flag'], axis=1, inplace=True)\n",
        "X_test.drop(['protocol_type','service','flag'], axis=1, inplace=True)"
      ],
      "metadata": {
        "id": "ch1D3j-unfSf"
      },
      "execution_count": null,
      "outputs": []
    },
    {
      "cell_type": "markdown",
      "source": [
        "Applying Standardisation on the continuous features of our dataset:- "
      ],
      "metadata": {
        "id": "p7IGPsbopPXn"
      }
    },
    {
      "cell_type": "code",
      "source": [
        "def feature_scaling(X_train, X_test, feature_name):\n",
        "    \n",
        "    '''\n",
        "    This function performs standardisation on the features\n",
        "    '''\n",
        "    \n",
        "    from sklearn.preprocessing import StandardScaler\n",
        "\n",
        "    scaler = StandardScaler()\n",
        "    scaler1 = scaler.fit_transform(X_train[feature_name].values.reshape(-1,1))\n",
        "    scaler2 = scaler.transform(X_test[feature_name].values.reshape(-1,1))\n",
        "    \n",
        "    return scaler1, scaler2"
      ],
      "metadata": {
        "id": "ahhayUaQpLVS"
      },
      "execution_count": null,
      "outputs": []
    },
    {
      "cell_type": "markdown",
      "source": [
        "Duration:- "
      ],
      "metadata": {
        "id": "heLGx3kIpbok"
      }
    },
    {
      "cell_type": "code",
      "source": [
        "duration1, duration2 = feature_scaling(X_train, X_test, 'duration')\n",
        "src_bytes1, src_bytes2 = feature_scaling(X_train, X_test, 'src_bytes')\n",
        "dst_bytes1, dst_bytes2 = feature_scaling(X_train, X_test, 'dst_bytes')\n",
        "land1, land2 = np.array([X_train['land'].values]), np.array([X_test['land'].values])\n",
        "num_failed_logins1, num_failed_logins2 = feature_scaling(X_train, X_test, 'num_failed_logins')\n",
        "num_failed_logins1, num_failed_logins2 = feature_scaling(X_train, X_test, 'num_failed_logins')\n",
        "num_compromised1, num_compromised2 = feature_scaling(X_train, X_test, 'num_compromised')\n",
        "su_attempted1, su_attempted2 = feature_scaling(X_train, X_test, 'su_attempted')\n",
        "num_shells1, num_shells2 = feature_scaling(X_train, X_test, 'num_shells')\n",
        "is_host_login1, is_host_login2 = np.array([X_train['is_host_login'].values]), np.array([X_test['is_host_login'].values])\n",
        "srv_count1, srv_count2 = feature_scaling(X_train, X_test, 'srv_count')\n",
        "srv_rerror_rate1, srv_rerror_rate2 = feature_scaling(X_train, X_test, 'srv_rerror_rate')\n",
        "srv_serror_rate1, srv_serror_rate2 = feature_scaling(X_train, X_test, 'srv_serror_rate')\n",
        "rerror_rate1, rerror_rate2 = feature_scaling(X_train, X_test, 'rerror_rate')\n",
        "same_srv_rate1, same_srv_rate2 = feature_scaling(X_train, X_test, 'same_srv_rate')\n",
        "diff_srv_rate1, diff_srv_rate2 = feature_scaling(X_train, X_test, 'diff_srv_rate')\n",
        "srv_diff_host_rate1, srv_diff_host_rate2 = feature_scaling(X_train, X_test, 'srv_diff_host_rate')\n",
        "dst_host_same_srv_rate1, dst_host_same_srv_rate2= feature_scaling(X_train, X_test, 'dst_host_same_srv_rate')\n",
        "dst_host_diff_srv_rate1, dst_host_diff_srv_rate2 = feature_scaling(X_train, X_test, 'dst_host_diff_srv_rate')"
      ],
      "metadata": {
        "id": "8wrYhPzipVwT"
      },
      "execution_count": null,
      "outputs": []
    },
    {
      "cell_type": "code",
      "source": [
        "wrong_fragment1, wrong_fragment2 = feature_scaling(X_train, X_test, 'wrong_fragment')\n",
        "urgent1, urgent2 = feature_scaling(X_train, X_test, 'urgent')\n",
        "hot1, hot2 = feature_scaling(X_train, X_test, 'hot')\n",
        "root_shell1, root_shell2 = feature_scaling(X_train, X_test, 'root_shell')\n",
        "num_root1, num_root2 = feature_scaling(X_train, X_test, 'num_root')\n",
        "num_file_creations1, num_file_creations2 = feature_scaling(X_train, X_test, 'num_file_creations')\n",
        "num_access_files1, num_access_files2 = feature_scaling(X_train, X_test, 'num_access_files')\n",
        "data['num_outbound_cmds'].value_counts() #- We will not use 'num_outbound_cmds' feature as it has all zero values.\n",
        "serror_rate1, serror_rate2 = feature_scaling(X_train, X_test, 'serror_rate')\n",
        "dst_host_count1, dst_host_count2 = feature_scaling(X_train, X_test, 'dst_host_count')\n",
        "dst_host_srv_count1, dst_host_srv_count2 = feature_scaling(X_train, X_test, 'dst_host_srv_count')\n",
        "dst_host_same_src_port_rate1, dst_host_same_src_port_rate2 = feature_scaling(X_train, X_test, 'dst_host_same_src_port_rate')\n",
        "dst_host_srv_diff_host_rate1, dst_host_srv_diff_host_rate2 = feature_scaling(X_train, X_test, 'dst_host_srv_diff_host_rate')\n",
        "dst_host_serror_rate1, dst_host_serror_rate2 = feature_scaling(X_train, X_test, 'dst_host_serror_rate')\n",
        "dst_host_srv_serror_rate1, dst_host_srv_serror_rate2 = feature_scaling(X_train, X_test, 'dst_host_srv_serror_rate')\n",
        "dst_host_rerror_rate1, dst_host_rerror_rate2 = feature_scaling(X_train, X_test, 'dst_host_rerror_rate')\n",
        "dst_host_srv_rerror_rate1, dst_host_srv_rerror_rate2 = feature_scaling(X_train, X_test, 'dst_host_srv_rerror_rate')\n",
        "is_guest_login1, is_guest_login2 = np.array([X_train['is_guest_login'].values]), np.array([X_test['is_guest_login'].values])\n",
        "logged_in1, logged_in2 = np.array([X_train['logged_in'].values]), np.array([X_test['logged_in'].values])\n",
        "count1, count2 = feature_scaling(X_train, X_test, 'count')\n",
        "dst_host_diff_srv_rate1, dst_host_diff_srv_rate2 = feature_scaling(X_train, X_test, 'dst_host_diff_srv_rate')"
      ],
      "metadata": {
        "id": "dMyqgw_nk_WX"
      },
      "execution_count": null,
      "outputs": []
    },
    {
      "cell_type": "code",
      "source": [
        "print(duration1[1])\n",
        "print(src_bytes1[1])\n",
        "print(dst_bytes1[1])\n",
        "print(wrong_fragment1[1])\n",
        "print(urgent1[1])\n",
        "print(hot1[1])\n",
        "print(num_failed_logins1[1])\n",
        "num_compromised1[1]\n",
        "root_shell1[1]\n",
        "su_attempted1[1]\n",
        "num_root1[1]\n",
        "num_file_creations1[1]\n",
        "num_shells1[1]\n",
        "num_access_files1[1]\n",
        "srv_count1[1]\n",
        "serror_rate1[1]\n",
        "srv_serror_rate1[1]\n",
        "rerror_rate1[1]\n",
        "srv_rerror_rate1[1]\n",
        "same_srv_rate1[1]\n",
        "diff_srv_rate1[1]\n",
        "srv_diff_host_rate1[1]\n",
        "dst_host_count1[1]\n",
        "dst_host_srv_count1[1]\n",
        "dst_host_same_srv_rate1[1]\n",
        "dst_host_diff_srv_rate1[1]\n",
        "dst_host_same_src_port_rate1[1]\n",
        "dst_host_srv_diff_host_rate1[1]\n",
        "dst_host_serror_rate1[1]\n",
        "dst_host_srv_serror_rate1[1]\n",
        "dst_host_rerror_rate1[1]\n",
        "dst_host_srv_rerror_rate1[1]\n",
        "num_failed_logins1[1]\n",
        "land1.shape\n",
        "is_host_login1.shape\n",
        "is_guest_login1.shape\n",
        "logged_in1.shape\n",
        "count1[1]\n",
        "dst_host_diff_srv_rate1[1]"
      ],
      "metadata": {
        "colab": {
          "base_uri": "https://localhost:8080/"
        },
        "id": "pNvBMHcXpkmI",
        "outputId": "383752e1-7ac1-47e8-a35c-886fd2891090"
      },
      "execution_count": null,
      "outputs": [
        {
          "output_type": "stream",
          "name": "stdout",
          "text": [
            "[-0.08830648]\n",
            "[-0.01237312]\n",
            "[-0.09933097]\n",
            "[-0.032601]\n",
            "[-0.01032038]\n",
            "[-0.06409598]\n",
            "[-0.07907331]\n"
          ]
        },
        {
          "output_type": "execute_result",
          "data": {
            "text/plain": [
              "array([0.76551864])"
            ]
          },
          "metadata": {},
          "execution_count": 76
        }
      ]
    },
    {
      "cell_type": "code",
      "source": [
        "#Merging categorical and continuous features:-\n",
        "\n",
        "from scipy.sparse import hstack"
      ],
      "metadata": {
        "id": "mRpXVGlhu0dp"
      },
      "execution_count": null,
      "outputs": []
    },
    {
      "cell_type": "code",
      "source": [
        "X_train_1 = hstack((duration1, train_protocol, train_service, train_flag, src_bytes1,\n",
        "       dst_bytes1, num_failed_logins1, num_compromised1,\n",
        "       su_attempted1, is_host_login1.T, srv_count1, serror_rate1,\n",
        "       srv_serror_rate1, rerror_rate1, srv_rerror_rate1, same_srv_rate1,\n",
        "       diff_srv_rate1, srv_diff_host_rate1, dst_host_count1,\n",
        "       dst_host_srv_count1, dst_host_same_srv_rate1,\n",
        "       dst_host_diff_srv_rate1, dst_host_same_src_port_rate1,\n",
        "       dst_host_srv_diff_host_rate1, dst_host_serror_rate1,\n",
        "       dst_host_srv_serror_rate1, dst_host_rerror_rate1,\n",
        "       dst_host_srv_rerror_rate1))"
      ],
      "metadata": {
        "id": "RIh209Wcu4VW"
      },
      "execution_count": null,
      "outputs": []
    },
    {
      "cell_type": "code",
      "source": [
        "X_train_1.shape"
      ],
      "metadata": {
        "colab": {
          "base_uri": "https://localhost:8080/"
        },
        "id": "v3Ori0btvBHQ",
        "outputId": "2a1fe891-9ede-4106-eaec-0164b3c4288f"
      },
      "execution_count": null,
      "outputs": [
        {
          "output_type": "execute_result",
          "data": {
            "text/plain": [
              "(54103, 104)"
            ]
          },
          "metadata": {},
          "execution_count": 99
        }
      ]
    },
    {
      "cell_type": "code",
      "source": [
        "X_test_1 = hstack((duration2, test_protocol, test_service, test_flag, src_bytes2,\n",
        "       dst_bytes2, num_failed_logins2, num_compromised2,\n",
        "       su_attempted2, is_host_login2.T, srv_count2, serror_rate2,\n",
        "       srv_serror_rate2, rerror_rate2, srv_rerror_rate2, same_srv_rate2,\n",
        "       diff_srv_rate2, srv_diff_host_rate2, dst_host_count2,\n",
        "       dst_host_srv_count2, dst_host_same_srv_rate2,\n",
        "       dst_host_diff_srv_rate2, dst_host_same_src_port_rate2,\n",
        "       dst_host_srv_diff_host_rate2, dst_host_serror_rate2,\n",
        "       dst_host_srv_serror_rate2, dst_host_rerror_rate2,\n",
        "       dst_host_srv_rerror_rate2))"
      ],
      "metadata": {
        "id": "4HOtqmHrvR6I"
      },
      "execution_count": null,
      "outputs": []
    },
    {
      "cell_type": "code",
      "source": [
        "X_test_1.shape"
      ],
      "metadata": {
        "colab": {
          "base_uri": "https://localhost:8080/"
        },
        "id": "OePU5TPsvXoB",
        "outputId": "f9bcf256-d9fd-4dd0-ef22-f681e4776b3d"
      },
      "execution_count": null,
      "outputs": [
        {
          "output_type": "execute_result",
          "data": {
            "text/plain": [
              "(23188, 104)"
            ]
          },
          "metadata": {},
          "execution_count": 112
        }
      ]
    },
    {
      "cell_type": "code",
      "source": [
        "import joblib\n",
        "joblib.dump(X_train_1,'X_train_1.pkl')\n",
        "joblib.dump(X_test_1,'X_test_1.pkl')\n",
        "X_train_1 = joblib.load('X_train_1.pkl')\n",
        "X_test_1 = joblib.load('X_test_1.pkl')"
      ],
      "metadata": {
        "id": "qDA4CyLmvfnT"
      },
      "execution_count": null,
      "outputs": []
    },
    {
      "cell_type": "code",
      "source": [
        "joblib.dump(Y_train,'Y_train.pkl')\n",
        "joblib.dump(Y_test,'Y_test.pkl')\n",
        "Y_train = joblib.load('Y_train.pkl')\n",
        "Y_test = joblib.load('Y_test.pkl')"
      ],
      "metadata": {
        "id": "Zj9_41gKvq_3"
      },
      "execution_count": null,
      "outputs": []
    },
    {
      "cell_type": "code",
      "source": [
        "#Utility Functions:-\n",
        "import datetime as dt\n",
        "from sklearn.metrics import accuracy_score, confusion_matrix, roc_auc_score, precision_score, recall_score, f1_score\n",
        "from sklearn.model_selection import GridSearchCV, RandomizedSearchCV\n"
      ],
      "metadata": {
        "id": "HLsL86Pdvueh"
      },
      "execution_count": null,
      "outputs": []
    },
    {
      "cell_type": "code",
      "source": [
        "def confusion_matrix_func(Y_test, y_test_pred):\n",
        "    '''\n",
        "    This function plots the confusion matrix heatmap using the actual and predicted values.\n",
        "    '''\n",
        "    C = confusion_matrix(Y_test, y_test_pred)\n",
        "    cm_df = pd.DataFrame(C)\n",
        "    labels = ['back', 'butter_overflow', 'loadmodule', 'guess_passwd', 'imap', 'ipsweep', 'warezmaster', 'rootkit', \n",
        "              'multihop', 'neptune', 'nmap', 'normal', 'phf', 'perl', 'pod', 'portsweep', 'ftp_write', 'satan', 'smurf',\n",
        "              'teardrop', 'warezclient', 'land']\n",
        "    plt.figure(figsize=(20,15))\n",
        "    sns.set(font_scale=1.4)\n",
        "    sns.heatmap(cm_df, annot=True, annot_kws={\"size\":12}, fmt='g', xticklabels=labels, yticklabels=labels)\n",
        "    plt.ylabel('Actual Class')\n",
        "    plt.xlabel('Predicted Class')\n",
        "    \n",
        "    plt.show()"
      ],
      "metadata": {
        "id": "FYofi11owEIm"
      },
      "execution_count": null,
      "outputs": []
    },
    {
      "cell_type": "code",
      "source": [
        "def model(model_name, X_train, Y_train, X_test, Y_test):\n",
        "    \n",
        "    '''\n",
        "    This function computes the performance scores on the train and test data.\n",
        "    '''\n",
        "    \n",
        "    print('Fitting the model and prediction on train data:')\n",
        "    start = dt.datetime.now()\n",
        "    model_name.fit(X_train, Y_train)\n",
        "    y_tr_pred = model_name.predict(X_train)\n",
        "    print('Completed')\n",
        "    print('Time taken:',dt.datetime.now()-start)\n",
        "    print('='*50)\n",
        "    \n",
        "    results_tr = dict()\n",
        "    y_tr_pred = model_name.predict(X_train)    \n",
        "    results_tr['precision'] = precision_score(Y_train, y_tr_pred, average='weighted')\n",
        "    results_tr['recall'] = recall_score(Y_train, y_tr_pred, average='weighted')\n",
        "    results_tr['f1_score'] = f1_score(Y_train, y_tr_pred, average='weighted')\n",
        "    \n",
        "    results_test = dict()\n",
        "    print('Prediction on test data:')\n",
        "    start = dt.datetime.now()\n",
        "    y_test_pred = model_name.predict(X_test)\n",
        "    print('Completed')\n",
        "    print('Time taken:',dt.datetime.now()-start)\n",
        "    print('='*50)\n",
        "    \n",
        "    print('Performance metrics:')\n",
        "    print('='*50)\n",
        "    print('Confusion Matrix is:')\n",
        "    confusion_matrix_func(Y_test, y_test_pred)\n",
        "    print('='*50)\n",
        "    results_test['precision'] = precision_score(Y_test, y_test_pred, average='weighted')\n",
        "    print('Precision score is:')\n",
        "    print(precision_score(Y_test, y_test_pred, average='weighted'))\n",
        "    print('='*50)\n",
        "    results_test['recall'] = recall_score(Y_test, y_test_pred, average='weighted')\n",
        "    print('Recall score is:')\n",
        "    print(recall_score(Y_test, y_test_pred, average='weighted'))\n",
        "    print('='*50)\n",
        "    results_test['f1_score'] = f1_score(Y_test, y_test_pred, average='weighted')\n",
        "    print('F1-score is:')\n",
        "    print(f1_score(Y_test, y_test_pred, average='weighted'))\n",
        "    # add the trained  model to the results\n",
        "    results_test['model'] = model\n",
        "    \n",
        "    return results_tr, results_test"
      ],
      "metadata": {
        "id": "oYvlbfKfwPly"
      },
      "execution_count": null,
      "outputs": []
    },
    {
      "cell_type": "code",
      "source": [
        "def print_grid_search_attributes(model):\n",
        "    \n",
        "    '''\n",
        "    This function prints all the grid search attributes\n",
        "    '''\n",
        "    \n",
        "    print('---------------------------')\n",
        "    print('|      Best Estimator     |')\n",
        "    print('---------------------------')\n",
        "    print('\\n\\t{}\\n'.format(model.best_estimator_))\n",
        "\n",
        "\n",
        "    # parameters that gave best results while performing grid search\n",
        "    print('---------------------------')\n",
        "    print('|     Best parameters     |')\n",
        "    print('---------------------------')\n",
        "    print('\\tParameters of best estimator : \\n\\n\\t{}\\n'.format(model.best_params_))\n",
        "\n",
        "\n",
        "    #  number of cross validation splits\n",
        "    print('----------------------------------')\n",
        "    print('|   No of CrossValidation sets   |')\n",
        "    print('----------------------------------')\n",
        "    print('\\n\\tTotal numbre of cross validation sets: {}\\n'.format(model.n_splits_))\n",
        "\n",
        "\n",
        "    # Average cross validated score of the best estimator, from the Grid Search \n",
        "    print('---------------------------')\n",
        "    print('|        Best Score       |')\n",
        "    print('---------------------------')\n",
        "    print('\\n\\tAverage Cross Validate scores of best estimator : \\n\\n\\t{}\\n'.format(model.best_score_))"
      ],
      "metadata": {
        "id": "yNGrsjkXwYZC"
      },
      "execution_count": null,
      "outputs": []
    },
    {
      "cell_type": "code",
      "source": [
        "def tpr_fpr_func(Y_tr, Y_pred):\n",
        "    '''\n",
        "    This function computes the TPR and FPR scores using the actual and predicetd values\n",
        "    '''\n",
        "    results = dict()\n",
        "    Y_tr = Y_tr.to_list()\n",
        "    tp = 0; fp = 0; positives = 0; negatives = 0; length = len(Y_tr)\n",
        "    for i in range(len(Y_tr)):\n",
        "        if Y_tr[i]=='normal.':\n",
        "            positives += 1\n",
        "        else:\n",
        "            negatives += 1\n",
        "            \n",
        "    for i in range(len(Y_pred)):\n",
        "        if Y_tr[i]=='normal.' and Y_pred[i]=='normal.':\n",
        "            tp += 1\n",
        "        elif Y_tr[i]!='normal.' and Y_pred[i]=='normal.':\n",
        "            fp += 1\n",
        "            \n",
        "    tpr = tp/positives\n",
        "    fpr = fp/negatives\n",
        "    \n",
        "    results['tp'] = tp; results['tpr'] = tpr; results['fp'] = fp; results['fpr'] = fpr\n",
        "    \n",
        "    return results"
      ],
      "metadata": {
        "id": "-BE-SiMxwetK"
      },
      "execution_count": null,
      "outputs": []
    },
    {
      "cell_type": "code",
      "source": [
        "#Model_3 :- SVM (SGD_Classifier with loss='hinge')\n",
        "\n",
        "hyperparameter = {'alpha':[10**x for x in range(-8,3)], 'penalty':['l1', 'l2']}\n",
        "\n",
        "from sklearn.linear_model import SGDClassifier\n",
        "svm = SGDClassifier(loss='hinge')\n",
        "svm_grid = GridSearchCV(svm, param_grid=hyperparameter, cv=5, verbose=1, n_jobs=-1)\n",
        "\n"
      ],
      "metadata": {
        "id": "IMEwwry9wrTs"
      },
      "execution_count": null,
      "outputs": []
    },
    {
      "cell_type": "code",
      "source": [
        "svm_grid_results_tr, svm_grid_results_test = model(svm_grid, X_train_1.toarray(), Y_train, X_test_1.toarray(), Y_test)"
      ],
      "metadata": {
        "colab": {
          "base_uri": "https://localhost:8080/",
          "height": 1000
        },
        "id": "R03vZLz5wycH",
        "outputId": "5b4c2791-d931-4ae9-b03b-3cfa6817f363"
      },
      "execution_count": null,
      "outputs": [
        {
          "output_type": "stream",
          "name": "stdout",
          "text": [
            "Fitting the model and prediction on train data:\n",
            "Fitting 5 folds for each of 22 candidates, totalling 110 fits\n",
            "Completed\n",
            "Time taken: 0:18:22.371892\n",
            "==================================================\n",
            "Prediction on test data:\n",
            "Completed\n",
            "Time taken: 0:00:00.028008\n",
            "==================================================\n",
            "Performance metrics:\n",
            "==================================================\n",
            "Confusion Matrix is:\n"
          ]
        },
        {
          "output_type": "display_data",
          "data": {
            "text/plain": [
              "<Figure size 1440x1080 with 2 Axes>"
            ],
            "image/png": "[encoded data removed]"
          },
          "metadata": {}
        },
        {
          "output_type": "stream",
          "name": "stdout",
          "text": [
            "==================================================\n",
            "Precision score is:\n",
            "0.9822549190057978\n",
            "==================================================\n",
            "Recall score is:\n",
            "0.9817146800069001\n",
            "==================================================\n",
            "F1-score is:\n",
            "0.9810997176932058\n"
          ]
        }
      ]
    },
    {
      "cell_type": "code",
      "source": [
        "print_grid_search_attributes(svm_grid)"
      ],
      "metadata": {
        "colab": {
          "base_uri": "https://localhost:8080/"
        },
        "id": "7xJvPnnk3Tsp",
        "outputId": "c00044d9-86e9-4070-a72a-238d3cccfb3c"
      },
      "execution_count": null,
      "outputs": [
        {
          "output_type": "stream",
          "name": "stdout",
          "text": [
            "---------------------------\n",
            "|      Best Estimator     |\n",
            "---------------------------\n",
            "\n",
            "\tSGDClassifier(alpha=1e-06, penalty='l1')\n",
            "\n",
            "---------------------------\n",
            "|     Best parameters     |\n",
            "---------------------------\n",
            "\tParameters of best estimator : \n",
            "\n",
            "\t{'alpha': 1e-06, 'penalty': 'l1'}\n",
            "\n",
            "----------------------------------\n",
            "|   No of CrossValidation sets   |\n",
            "----------------------------------\n",
            "\n",
            "\tTotal numbre of cross validation sets: 5\n",
            "\n",
            "---------------------------\n",
            "|        Best Score       |\n",
            "---------------------------\n",
            "\n",
            "\tAverage Cross Validate scores of best estimator : \n",
            "\n",
            "\t0.9790584611526743\n",
            "\n"
          ]
        }
      ]
    },
    {
      "cell_type": "code",
      "source": [
        "svm_gs = svm_grid.best_estimator_\n",
        "y_tr_pred = svm_gs.predict(X_train_1.toarray())\n",
        "y_test_pred = svm_gs.predict(X_test_1.toarray())\n",
        "svm_tpr_fpr_train = tpr_fpr_func(Y_train, y_tr_pred)\n",
        "svm_tpr_fpr_test = tpr_fpr_func(Y_test, y_test_pred)"
      ],
      "metadata": {
        "id": "-Bm7TsKw3qCM"
      },
      "execution_count": null,
      "outputs": []
    },
    {
      "cell_type": "code",
      "source": [
        "svm_grid_results_tr"
      ],
      "metadata": {
        "colab": {
          "base_uri": "https://localhost:8080/"
        },
        "id": "Cs3MPgBW3c-z",
        "outputId": "94199bb4-9f69-4188-df7e-ad98d8759095"
      },
      "execution_count": null,
      "outputs": [
        {
          "output_type": "execute_result",
          "data": {
            "text/plain": [
              "{'f1_score': 0.9813952682335519,\n",
              " 'precision': 0.9830327117705012,\n",
              " 'recall': 0.9821636508141878}"
            ]
          },
          "metadata": {},
          "execution_count": 124
        }
      ]
    },
    {
      "cell_type": "code",
      "source": [
        "svm_tpr_fpr_train"
      ],
      "metadata": {
        "colab": {
          "base_uri": "https://localhost:8080/"
        },
        "id": "7n2GvjAF3iAL",
        "outputId": "5d0e16d1-1ef6-4050-ec56-3c1744f84e3b"
      },
      "execution_count": null,
      "outputs": [
        {
          "output_type": "execute_result",
          "data": {
            "text/plain": [
              "{'fp': 274, 'fpr': 0.01322840728045189, 'tp': 32989, 'tpr': 0.9879904162923031}"
            ]
          },
          "metadata": {},
          "execution_count": 125
        }
      ]
    },
    {
      "cell_type": "code",
      "source": [
        "svm_grid_results_test"
      ],
      "metadata": {
        "colab": {
          "base_uri": "https://localhost:8080/"
        },
        "id": "fFG_X_Zx3wg9",
        "outputId": "794a11e7-59a8-4c54-a2cf-c474a9c9049c"
      },
      "execution_count": null,
      "outputs": [
        {
          "output_type": "execute_result",
          "data": {
            "text/plain": [
              "{'f1_score': 0.9810997176932058,\n",
              " 'model': <function __main__.model>,\n",
              " 'precision': 0.9822549190057978,\n",
              " 'recall': 0.9817146800069001}"
            ]
          },
          "metadata": {},
          "execution_count": 126
        }
      ]
    },
    {
      "cell_type": "code",
      "source": [
        "svm_tpr_fpr_test"
      ],
      "metadata": {
        "colab": {
          "base_uri": "https://localhost:8080/"
        },
        "id": "FKpH76l830zL",
        "outputId": "8a9a20d9-55e7-477f-8418-9a3c62b48d80"
      },
      "execution_count": null,
      "outputs": [
        {
          "output_type": "execute_result",
          "data": {
            "text/plain": [
              "{'fp': 131,\n",
              " 'fpr': 0.015118291979226775,\n",
              " 'tp': 14355,\n",
              " 'tpr': 0.9884321421193968}"
            ]
          },
          "metadata": {},
          "execution_count": 127
        }
      ]
    }
  ]
}